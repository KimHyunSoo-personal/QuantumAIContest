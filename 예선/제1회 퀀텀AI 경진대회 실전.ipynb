{
 "cells": [
  {
   "cell_type": "markdown",
   "id": "a560a5bf",
   "metadata": {
    "id": "a560a5bf"
   },
   "source": [
    "# 사전 준비"
   ]
  },
  {
   "cell_type": "code",
   "execution_count": 23,
   "id": "9b632a1d-0f76-4193-9542-94e4bd6d2ed2",
   "metadata": {
    "colab": {
     "base_uri": "https://localhost:8080/"
    },
    "executionInfo": {
     "elapsed": 4270,
     "status": "ok",
     "timestamp": 1753958960255,
     "user": {
      "displayName": "현수김",
      "userId": "01750972062590134853"
     },
     "user_tz": -540
    },
    "id": "9b632a1d-0f76-4193-9542-94e4bd6d2ed2",
    "outputId": "df69c907-2552-4f12-a963-3cb42f49c114"
   },
   "outputs": [
    {
     "name": "stdout",
     "output_type": "stream",
     "text": [
      "Requirement already satisfied: pennylane in c:\\users\\xanle\\appdata\\local\\packages\\pythonsoftwarefoundation.python.3.11_qbz5n2kfra8p0\\localcache\\local-packages\\python311\\site-packages (0.42.1)\n",
      "Requirement already satisfied: scipy in c:\\users\\xanle\\appdata\\local\\packages\\pythonsoftwarefoundation.python.3.11_qbz5n2kfra8p0\\localcache\\local-packages\\python311\\site-packages (from pennylane) (1.16.1)\n",
      "Requirement already satisfied: networkx in c:\\users\\xanle\\appdata\\local\\packages\\pythonsoftwarefoundation.python.3.11_qbz5n2kfra8p0\\localcache\\local-packages\\python311\\site-packages (from pennylane) (3.5)\n",
      "Requirement already satisfied: rustworkx>=0.14.0 in c:\\users\\xanle\\appdata\\local\\packages\\pythonsoftwarefoundation.python.3.11_qbz5n2kfra8p0\\localcache\\local-packages\\python311\\site-packages (from pennylane) (0.16.0)\n",
      "Requirement already satisfied: autograd in c:\\users\\xanle\\appdata\\local\\packages\\pythonsoftwarefoundation.python.3.11_qbz5n2kfra8p0\\localcache\\local-packages\\python311\\site-packages (from pennylane) (1.8.0)\n",
      "Requirement already satisfied: appdirs in c:\\users\\xanle\\appdata\\local\\packages\\pythonsoftwarefoundation.python.3.11_qbz5n2kfra8p0\\localcache\\local-packages\\python311\\site-packages (from pennylane) (1.4.4)\n",
      "Requirement already satisfied: autoray>=0.6.11 in c:\\users\\xanle\\appdata\\local\\packages\\pythonsoftwarefoundation.python.3.11_qbz5n2kfra8p0\\localcache\\local-packages\\python311\\site-packages (from pennylane) (0.7.2)\n",
      "Requirement already satisfied: cachetools in c:\\users\\xanle\\appdata\\local\\packages\\pythonsoftwarefoundation.python.3.11_qbz5n2kfra8p0\\localcache\\local-packages\\python311\\site-packages (from pennylane) (6.1.0)\n",
      "Requirement already satisfied: pennylane-lightning>=0.42 in c:\\users\\xanle\\appdata\\local\\packages\\pythonsoftwarefoundation.python.3.11_qbz5n2kfra8p0\\localcache\\local-packages\\python311\\site-packages (from pennylane) (0.42.0)\n",
      "Requirement already satisfied: requests in c:\\users\\xanle\\appdata\\local\\packages\\pythonsoftwarefoundation.python.3.11_qbz5n2kfra8p0\\localcache\\local-packages\\python311\\site-packages (from pennylane) (2.32.4)\n",
      "Requirement already satisfied: tomlkit in c:\\users\\xanle\\appdata\\local\\packages\\pythonsoftwarefoundation.python.3.11_qbz5n2kfra8p0\\localcache\\local-packages\\python311\\site-packages (from pennylane) (0.13.3)\n",
      "Requirement already satisfied: typing_extensions in c:\\users\\xanle\\appdata\\local\\packages\\pythonsoftwarefoundation.python.3.11_qbz5n2kfra8p0\\localcache\\local-packages\\python311\\site-packages (from pennylane) (4.14.1)\n",
      "Requirement already satisfied: packaging in c:\\users\\xanle\\appdata\\local\\packages\\pythonsoftwarefoundation.python.3.11_qbz5n2kfra8p0\\localcache\\local-packages\\python311\\site-packages (from pennylane) (25.0)\n",
      "Requirement already satisfied: diastatic-malt in c:\\users\\xanle\\appdata\\local\\packages\\pythonsoftwarefoundation.python.3.11_qbz5n2kfra8p0\\localcache\\local-packages\\python311\\site-packages (from pennylane) (2.15.2)\n",
      "Requirement already satisfied: numpy in c:\\users\\xanle\\appdata\\local\\packages\\pythonsoftwarefoundation.python.3.11_qbz5n2kfra8p0\\localcache\\local-packages\\python311\\site-packages (from pennylane) (2.3.2)\n",
      "Requirement already satisfied: scipy-openblas32>=0.3.26 in c:\\users\\xanle\\appdata\\local\\packages\\pythonsoftwarefoundation.python.3.11_qbz5n2kfra8p0\\localcache\\local-packages\\python311\\site-packages (from pennylane-lightning>=0.42->pennylane) (0.3.30.0.2)\n",
      "Requirement already satisfied: astunparse in c:\\users\\xanle\\appdata\\local\\packages\\pythonsoftwarefoundation.python.3.11_qbz5n2kfra8p0\\localcache\\local-packages\\python311\\site-packages (from diastatic-malt->pennylane) (1.6.3)\n",
      "Requirement already satisfied: gast in c:\\users\\xanle\\appdata\\local\\packages\\pythonsoftwarefoundation.python.3.11_qbz5n2kfra8p0\\localcache\\local-packages\\python311\\site-packages (from diastatic-malt->pennylane) (0.6.0)\n",
      "Requirement already satisfied: termcolor in c:\\users\\xanle\\appdata\\local\\packages\\pythonsoftwarefoundation.python.3.11_qbz5n2kfra8p0\\localcache\\local-packages\\python311\\site-packages (from diastatic-malt->pennylane) (3.1.0)\n",
      "Requirement already satisfied: charset_normalizer<4,>=2 in c:\\users\\xanle\\appdata\\local\\packages\\pythonsoftwarefoundation.python.3.11_qbz5n2kfra8p0\\localcache\\local-packages\\python311\\site-packages (from requests->pennylane) (3.4.2)\n",
      "Requirement already satisfied: idna<4,>=2.5 in c:\\users\\xanle\\appdata\\local\\packages\\pythonsoftwarefoundation.python.3.11_qbz5n2kfra8p0\\localcache\\local-packages\\python311\\site-packages (from requests->pennylane) (3.10)\n",
      "Requirement already satisfied: urllib3<3,>=1.21.1 in c:\\users\\xanle\\appdata\\local\\packages\\pythonsoftwarefoundation.python.3.11_qbz5n2kfra8p0\\localcache\\local-packages\\python311\\site-packages (from requests->pennylane) (2.5.0)\n",
      "Requirement already satisfied: certifi>=2017.4.17 in c:\\users\\xanle\\appdata\\local\\packages\\pythonsoftwarefoundation.python.3.11_qbz5n2kfra8p0\\localcache\\local-packages\\python311\\site-packages (from requests->pennylane) (2025.7.14)\n",
      "Requirement already satisfied: wheel<1.0,>=0.23.0 in c:\\users\\xanle\\appdata\\local\\packages\\pythonsoftwarefoundation.python.3.11_qbz5n2kfra8p0\\localcache\\local-packages\\python311\\site-packages (from astunparse->diastatic-malt->pennylane) (0.45.1)\n",
      "Requirement already satisfied: six<2.0,>=1.6.1 in c:\\users\\xanle\\appdata\\local\\packages\\pythonsoftwarefoundation.python.3.11_qbz5n2kfra8p0\\localcache\\local-packages\\python311\\site-packages (from astunparse->diastatic-malt->pennylane) (1.17.0)\n"
     ]
    },
    {
     "name": "stderr",
     "output_type": "stream",
     "text": [
      "\n",
      "[notice] A new release of pip is available: 24.0 -> 25.2\n",
      "[notice] To update, run: C:\\Users\\xanle\\AppData\\Local\\Microsoft\\WindowsApps\\PythonSoftwareFoundation.Python.3.11_qbz5n2kfra8p0\\python.exe -m pip install --upgrade pip\n"
     ]
    }
   ],
   "source": [
    "!pip install pennylane"
   ]
  },
  {
   "cell_type": "code",
   "execution_count": 24,
   "id": "3a678f2b",
   "metadata": {},
   "outputs": [
    {
     "name": "stdout",
     "output_type": "stream",
     "text": [
      "Requirement already satisfied: matplotlib in c:\\users\\xanle\\appdata\\local\\packages\\pythonsoftwarefoundation.python.3.11_qbz5n2kfra8p0\\localcache\\local-packages\\python311\\site-packages (3.10.3)\n",
      "Requirement already satisfied: contourpy>=1.0.1 in c:\\users\\xanle\\appdata\\local\\packages\\pythonsoftwarefoundation.python.3.11_qbz5n2kfra8p0\\localcache\\local-packages\\python311\\site-packages (from matplotlib) (1.3.3)\n",
      "Requirement already satisfied: cycler>=0.10 in c:\\users\\xanle\\appdata\\local\\packages\\pythonsoftwarefoundation.python.3.11_qbz5n2kfra8p0\\localcache\\local-packages\\python311\\site-packages (from matplotlib) (0.12.1)\n",
      "Requirement already satisfied: fonttools>=4.22.0 in c:\\users\\xanle\\appdata\\local\\packages\\pythonsoftwarefoundation.python.3.11_qbz5n2kfra8p0\\localcache\\local-packages\\python311\\site-packages (from matplotlib) (4.59.0)\n",
      "Requirement already satisfied: kiwisolver>=1.3.1 in c:\\users\\xanle\\appdata\\local\\packages\\pythonsoftwarefoundation.python.3.11_qbz5n2kfra8p0\\localcache\\local-packages\\python311\\site-packages (from matplotlib) (1.4.8)\n",
      "Requirement already satisfied: numpy>=1.23 in c:\\users\\xanle\\appdata\\local\\packages\\pythonsoftwarefoundation.python.3.11_qbz5n2kfra8p0\\localcache\\local-packages\\python311\\site-packages (from matplotlib) (2.3.2)\n",
      "Requirement already satisfied: packaging>=20.0 in c:\\users\\xanle\\appdata\\local\\packages\\pythonsoftwarefoundation.python.3.11_qbz5n2kfra8p0\\localcache\\local-packages\\python311\\site-packages (from matplotlib) (25.0)\n",
      "Requirement already satisfied: pillow>=8 in c:\\users\\xanle\\appdata\\local\\packages\\pythonsoftwarefoundation.python.3.11_qbz5n2kfra8p0\\localcache\\local-packages\\python311\\site-packages (from matplotlib) (11.3.0)\n",
      "Requirement already satisfied: pyparsing>=2.3.1 in c:\\users\\xanle\\appdata\\local\\packages\\pythonsoftwarefoundation.python.3.11_qbz5n2kfra8p0\\localcache\\local-packages\\python311\\site-packages (from matplotlib) (3.2.3)\n",
      "Requirement already satisfied: python-dateutil>=2.7 in c:\\users\\xanle\\appdata\\local\\packages\\pythonsoftwarefoundation.python.3.11_qbz5n2kfra8p0\\localcache\\local-packages\\python311\\site-packages (from matplotlib) (2.9.0.post0)\n",
      "Requirement already satisfied: six>=1.5 in c:\\users\\xanle\\appdata\\local\\packages\\pythonsoftwarefoundation.python.3.11_qbz5n2kfra8p0\\localcache\\local-packages\\python311\\site-packages (from python-dateutil>=2.7->matplotlib) (1.17.0)\n",
      "Note: you may need to restart the kernel to use updated packages.\n"
     ]
    },
    {
     "name": "stderr",
     "output_type": "stream",
     "text": [
      "\n",
      "[notice] A new release of pip is available: 24.0 -> 25.2\n",
      "[notice] To update, run: C:\\Users\\xanle\\AppData\\Local\\Microsoft\\WindowsApps\\PythonSoftwareFoundation.Python.3.11_qbz5n2kfra8p0\\python.exe -m pip install --upgrade pip\n"
     ]
    }
   ],
   "source": [
    "pip install matplotlib"
   ]
  },
  {
   "cell_type": "code",
   "execution_count": 25,
   "id": "cb455457",
   "metadata": {},
   "outputs": [
    {
     "name": "stdout",
     "output_type": "stream",
     "text": [
      "Looking in indexes: https://download.pytorch.org/whl/cu118\n",
      "Requirement already satisfied: torch in c:\\users\\xanle\\appdata\\local\\packages\\pythonsoftwarefoundation.python.3.11_qbz5n2kfra8p0\\localcache\\local-packages\\python311\\site-packages (2.7.1+cu118)\n",
      "Requirement already satisfied: torchvision in c:\\users\\xanle\\appdata\\local\\packages\\pythonsoftwarefoundation.python.3.11_qbz5n2kfra8p0\\localcache\\local-packages\\python311\\site-packages (0.22.1+cu118)\n",
      "Requirement already satisfied: torchaudio in c:\\users\\xanle\\appdata\\local\\packages\\pythonsoftwarefoundation.python.3.11_qbz5n2kfra8p0\\localcache\\local-packages\\python311\\site-packages (2.7.1+cu118)\n",
      "Requirement already satisfied: filelock in c:\\users\\xanle\\appdata\\local\\packages\\pythonsoftwarefoundation.python.3.11_qbz5n2kfra8p0\\localcache\\local-packages\\python311\\site-packages (from torch) (3.18.0)\n",
      "Requirement already satisfied: typing-extensions>=4.10.0 in c:\\users\\xanle\\appdata\\local\\packages\\pythonsoftwarefoundation.python.3.11_qbz5n2kfra8p0\\localcache\\local-packages\\python311\\site-packages (from torch) (4.14.1)\n",
      "Requirement already satisfied: sympy>=1.13.3 in c:\\users\\xanle\\appdata\\local\\packages\\pythonsoftwarefoundation.python.3.11_qbz5n2kfra8p0\\localcache\\local-packages\\python311\\site-packages (from torch) (1.14.0)\n",
      "Requirement already satisfied: networkx in c:\\users\\xanle\\appdata\\local\\packages\\pythonsoftwarefoundation.python.3.11_qbz5n2kfra8p0\\localcache\\local-packages\\python311\\site-packages (from torch) (3.5)\n",
      "Requirement already satisfied: jinja2 in c:\\users\\xanle\\appdata\\local\\packages\\pythonsoftwarefoundation.python.3.11_qbz5n2kfra8p0\\localcache\\local-packages\\python311\\site-packages (from torch) (3.1.6)\n",
      "Requirement already satisfied: fsspec in c:\\users\\xanle\\appdata\\local\\packages\\pythonsoftwarefoundation.python.3.11_qbz5n2kfra8p0\\localcache\\local-packages\\python311\\site-packages (from torch) (2025.7.0)\n",
      "Requirement already satisfied: numpy in c:\\users\\xanle\\appdata\\local\\packages\\pythonsoftwarefoundation.python.3.11_qbz5n2kfra8p0\\localcache\\local-packages\\python311\\site-packages (from torchvision) (2.3.2)\n",
      "Requirement already satisfied: pillow!=8.3.*,>=5.3.0 in c:\\users\\xanle\\appdata\\local\\packages\\pythonsoftwarefoundation.python.3.11_qbz5n2kfra8p0\\localcache\\local-packages\\python311\\site-packages (from torchvision) (11.3.0)\n",
      "Requirement already satisfied: mpmath<1.4,>=1.1.0 in c:\\users\\xanle\\appdata\\local\\packages\\pythonsoftwarefoundation.python.3.11_qbz5n2kfra8p0\\localcache\\local-packages\\python311\\site-packages (from sympy>=1.13.3->torch) (1.3.0)\n",
      "Requirement already satisfied: MarkupSafe>=2.0 in c:\\users\\xanle\\appdata\\local\\packages\\pythonsoftwarefoundation.python.3.11_qbz5n2kfra8p0\\localcache\\local-packages\\python311\\site-packages (from jinja2->torch) (3.0.2)\n"
     ]
    },
    {
     "name": "stderr",
     "output_type": "stream",
     "text": [
      "\n",
      "[notice] A new release of pip is available: 24.0 -> 25.2\n",
      "[notice] To update, run: C:\\Users\\xanle\\AppData\\Local\\Microsoft\\WindowsApps\\PythonSoftwareFoundation.Python.3.11_qbz5n2kfra8p0\\python.exe -m pip install --upgrade pip\n"
     ]
    }
   ],
   "source": [
    "!pip install torch torchvision torchaudio --index-url https://download.pytorch.org/whl/cu118"
   ]
  },
  {
   "cell_type": "code",
   "execution_count": 26,
   "id": "94267510",
   "metadata": {},
   "outputs": [
    {
     "name": "stdout",
     "output_type": "stream",
     "text": [
      "Requirement already satisfied: tqdm in c:\\users\\xanle\\appdata\\local\\packages\\pythonsoftwarefoundation.python.3.11_qbz5n2kfra8p0\\localcache\\local-packages\\python311\\site-packages (4.67.1)\n",
      "Requirement already satisfied: colorama in c:\\users\\xanle\\appdata\\local\\packages\\pythonsoftwarefoundation.python.3.11_qbz5n2kfra8p0\\localcache\\local-packages\\python311\\site-packages (from tqdm) (0.4.6)\n"
     ]
    },
    {
     "name": "stderr",
     "output_type": "stream",
     "text": [
      "\n",
      "[notice] A new release of pip is available: 24.0 -> 25.2\n",
      "[notice] To update, run: C:\\Users\\xanle\\AppData\\Local\\Microsoft\\WindowsApps\\PythonSoftwareFoundation.Python.3.11_qbz5n2kfra8p0\\python.exe -m pip install --upgrade pip\n"
     ]
    }
   ],
   "source": [
    "!pip install tqdm"
   ]
  },
  {
   "cell_type": "code",
   "execution_count": 27,
   "id": "e76f92fa",
   "metadata": {
    "executionInfo": {
     "elapsed": 2,
     "status": "ok",
     "timestamp": 1753958960267,
     "user": {
      "displayName": "현수김",
      "userId": "01750972062590134853"
     },
     "user_tz": -540
    },
    "id": "e76f92fa"
   },
   "outputs": [
    {
     "name": "stdout",
     "output_type": "stream",
     "text": [
      "cuda\n",
      "11.8\n",
      "True\n"
     ]
    }
   ],
   "source": [
    "import pennylane as qml # 일반적으로 qml이란 이름으로 가져옵니다. Quantum Machine Learning의 약자입니다.\n",
    "import numpy as np\n",
    "\n",
    "from pennylane import numpy as np_p\n",
    "\n",
    "import torch\n",
    "from torch.optim import Adam\n",
    "from torch.optim import AdamW\n",
    "from torch.optim import RAdam\n",
    "from torch.optim import Optimizer\n",
    "from torch.nn.parameter import Parameter\n",
    "from torch.nn import NLLLoss\n",
    "\n",
    "import matplotlib.pyplot as plt\n",
    "from IPython.display import clear_output\n",
    "\n",
    "import torch\n",
    "from torch.utils.data import Subset\n",
    "from torch.utils.data import DataLoader\n",
    "import torchvision\n",
    "\n",
    "from tqdm import tqdm\n",
    "\n",
    "from matplotlib import pyplot as plt\n",
    "\n",
    "device = torch.device(\"cuda\" if torch.cuda.is_available() else \"cpu\")\n",
    "\n",
    "print(device)\n",
    "print(torch.version.cuda)       # CUDA 버전 출력\n",
    "print(torch.cuda.is_available())  # True여야 GPU 사용 가능"
   ]
  },
  {
   "cell_type": "code",
   "execution_count": 28,
   "id": "d4e55d46",
   "metadata": {},
   "outputs": [],
   "source": [
    "class Lion(Optimizer):\n",
    "    def __init__(self, params, lr=1e-4, betas=(0.9, 0.99), weight_decay=0.0):\n",
    "        defaults = dict(lr=lr, betas=betas, weight_decay=weight_decay)\n",
    "        super(Lion, self).__init__(params, defaults)\n",
    "\n",
    "    @torch.no_grad()\n",
    "    def step(self, closure=None):\n",
    "        loss = None\n",
    "        if closure is not None:\n",
    "            with torch.enable_grad():\n",
    "                loss = closure()\n",
    "\n",
    "        for group in self.param_groups:\n",
    "            for p in group[\"params\"]:\n",
    "                if p.grad is None:\n",
    "                    continue\n",
    "                grad = p.grad\n",
    "\n",
    "                state = self.state[p]\n",
    "                if len(state) == 0:\n",
    "                    state[\"exp_avg\"] = torch.zeros_like(p)\n",
    "\n",
    "                exp_avg = state[\"exp_avg\"]\n",
    "                beta1, beta2 = group[\"betas\"]\n",
    "\n",
    "                # Weight decay\n",
    "                if group[\"weight_decay\"] != 0:\n",
    "                    grad = grad + group[\"weight_decay\"] * p\n",
    "\n",
    "                # Update exponential moving average\n",
    "                exp_avg.mul_(beta2).add_(grad, alpha=1 - beta2)\n",
    "\n",
    "                # Parameter update\n",
    "                update = exp_avg * beta1 + grad * (1 - beta1)\n",
    "                p.add_(update.sign(), alpha=-group[\"lr\"])\n",
    "\n",
    "        return loss"
   ]
  },
  {
   "cell_type": "code",
   "execution_count": 29,
   "id": "bI5S5Uod22iO",
   "metadata": {
    "executionInfo": {
     "elapsed": 14,
     "status": "ok",
     "timestamp": 1753958960284,
     "user": {
      "displayName": "현수김",
      "userId": "01750972062590134853"
     },
     "user_tz": -540
    },
    "id": "bI5S5Uod22iO"
   },
   "outputs": [],
   "source": [
    "class Lookahead(Optimizer):\n",
    "    def __init__(self, optimizer, alpha=0.5, k=5):\n",
    "        if not 0.0 <= alpha <= 1.0:\n",
    "            raise ValueError(f'Invalid alpha: {alpha}')\n",
    "        if not 1 <= k:\n",
    "            raise ValueError(f'Invalid k: {k}')\n",
    "\n",
    "        defaults = optimizer.defaults if hasattr(optimizer, 'defaults') else {}\n",
    "        super().__init__(optimizer.param_groups, defaults)\n",
    "\n",
    "        self.optimizer = optimizer\n",
    "        self.alpha = alpha\n",
    "        self.k = k\n",
    "        self.param_groups = self.optimizer.param_groups\n",
    "        self.state = self.optimizer.state\n",
    "        self._step = 0\n",
    "\n",
    "        # Slow weights 초기화\n",
    "        for group in self.param_groups:\n",
    "            for p in group['params']:\n",
    "                param_state = self.state[p]\n",
    "                param_state['slow_param'] = p.data.clone().detach()\n",
    "\n",
    "    @torch.no_grad()\n",
    "    def step(self, closure=None):\n",
    "        loss = self.optimizer.step(closure)\n",
    "        self._step += 1\n",
    "\n",
    "        if self._step % self.k != 0:\n",
    "            return loss\n",
    "\n",
    "        # Lookahead 업데이트\n",
    "        for group in self.param_groups:\n",
    "            for p in group['params']:\n",
    "                if p.grad is None:\n",
    "                    continue\n",
    "                param_state = self.state[p]\n",
    "                slow = param_state['slow_param']\n",
    "                fast = p.data\n",
    "                # slow ← slow + α(fast - slow)\n",
    "                p.data = slow + self.alpha * (fast - slow)\n",
    "                param_state['slow_param'] = p.data.clone().detach()\n",
    "\n",
    "        return loss"
   ]
  },
  {
   "cell_type": "markdown",
   "id": "7eea7f64",
   "metadata": {
    "id": "7eea7f64"
   },
   "source": [
    "# 데이터셋 준비"
   ]
  },
  {
   "cell_type": "code",
   "execution_count": 30,
   "id": "cChul3HsBvNX",
   "metadata": {
    "executionInfo": {
     "elapsed": 50,
     "status": "ok",
     "timestamp": 1753958960343,
     "user": {
      "displayName": "현수김",
      "userId": "01750972062590134853"
     },
     "user_tz": -540
    },
    "id": "cChul3HsBvNX"
   },
   "outputs": [],
   "source": [
    "transform_train = torchvision.transforms.Compose([\n",
    "        torchvision.transforms.RandomHorizontalFlip(p=0.5),\n",
    "        torchvision.transforms.RandomRotation(10),\n",
    "        torchvision.transforms.ToTensor(),\n",
    "        torchvision.transforms.Normalize((0.5,), (0.5,))\n",
    "        ])\n",
    "\n",
    "transform_test = torchvision.transforms.Compose([\n",
    "        torchvision.transforms.ToTensor(),\n",
    "        torchvision.transforms.Normalize((0.5,), (0.5,))\n",
    "        ])\n",
    "\n",
    "train_ds = torchvision.datasets.FashionMNIST(\n",
    "    \"./\", train=True, download=True,\n",
    "    transform=transform_train)\n",
    "\n",
    "test_ds = torchvision.datasets.FashionMNIST(\n",
    "    \"./\", train=False, download=True,\n",
    "    transform=transform_test)\n",
    "\n",
    "train_mask = (train_ds.targets == 0) | (train_ds.targets == 6)\n",
    "train_idx = torch.where(train_mask)[0]\n",
    "train_ds.targets[train_ds.targets == 6] = 1\n",
    "\n",
    "binary_train_ds = Subset(train_ds, train_idx)\n",
    "\n",
    "train_loader = DataLoader(binary_train_ds, batch_size = 64, shuffle =True)"
   ]
  },
  {
   "cell_type": "code",
   "execution_count": 31,
   "id": "OXQ-ZFzRt45a",
   "metadata": {
    "colab": {
     "base_uri": "https://localhost:8080/",
     "height": 448
    },
    "executionInfo": {
     "elapsed": 257,
     "status": "ok",
     "timestamp": 1753958960602,
     "user": {
      "displayName": "현수김",
      "userId": "01750972062590134853"
     },
     "user_tz": -540
    },
    "id": "OXQ-ZFzRt45a",
    "outputId": "df2fb6db-53bd-4d4c-c094-e2b7430af0d2"
   },
   "outputs": [
    {
     "data": {
      "text/plain": [
       "<matplotlib.image.AxesImage at 0x2320ce20f10>"
      ]
     },
     "execution_count": 31,
     "metadata": {},
     "output_type": "execute_result"
    },
    {
     "data": {
      "image/png": "[encoded data removed]",
      "text/plain": [
       "<Figure size 640x480 with 1 Axes>"
      ]
     },
     "metadata": {},
     "output_type": "display_data"
    }
   ],
   "source": [
    "plt.imshow(binary_train_ds[20][0][0], cmap=\"grey\")"
   ]
  },
  {
   "cell_type": "code",
   "execution_count": 32,
   "id": "44f5cdad-5333-4da7-ab20-822b83233328",
   "metadata": {
    "colab": {
     "base_uri": "https://localhost:8080/",
     "height": 141
    },
    "executionInfo": {
     "elapsed": 380,
     "status": "ok",
     "timestamp": 1753958960979,
     "user": {
      "displayName": "현수김",
      "userId": "01750972062590134853"
     },
     "user_tz": -540
    },
    "id": "44f5cdad-5333-4da7-ab20-822b83233328",
    "outputId": "eec58dec-10a2-4a7c-bf04-003bb510496f"
   },
   "outputs": [
    {
     "data": {
      "image/png": "[encoded data removed]",
      "text/plain": [
       "<Figure size 1000x300 with 8 Axes>"
      ]
     },
     "metadata": {},
     "output_type": "display_data"
    }
   ],
   "source": [
    "n_samples_show = 8\n",
    "\n",
    "data_iter = iter(train_loader)\n",
    "fig, axes = plt.subplots(nrows=1, ncols=n_samples_show, figsize=(10, 3))\n",
    "\n",
    "while n_samples_show > 0:\n",
    "    images, targets = data_iter.__next__()\n",
    "\n",
    "    axes[n_samples_show - 1].imshow(images[0, 0].numpy().squeeze(), cmap=\"gray\")\n",
    "    axes[n_samples_show - 1].set_xticks([])\n",
    "    axes[n_samples_show - 1].set_yticks([])\n",
    "    axes[n_samples_show - 1].set_title(\"Labeled: {}\".format(targets[0].item()))\n",
    "\n",
    "    n_samples_show -= 1"
   ]
  },
  {
   "cell_type": "markdown",
   "id": "Gb9trugnvwcS",
   "metadata": {
    "id": "Gb9trugnvwcS"
   },
   "source": [
    "#모듈 생성"
   ]
  },
  {
   "cell_type": "code",
   "execution_count": 33,
   "id": "748d8ce6-b263-404d-ba6b-4515e374f982",
   "metadata": {
    "executionInfo": {
     "elapsed": 1,
     "status": "ok",
     "timestamp": 1753958960981,
     "user": {
      "displayName": "현수김",
      "userId": "01750972062590134853"
     },
     "user_tz": -540
    },
    "id": "748d8ce6-b263-404d-ba6b-4515e374f982"
   },
   "outputs": [],
   "source": [
    "from torch.nn import Module\n",
    "import torch.nn.functional as F\n",
    "from torch.nn import Conv2d, Dropout2d, Dropout, Linear, BatchNorm2d, BatchNorm1d\n",
    "from torch import cat"
   ]
  },
  {
   "cell_type": "code",
   "execution_count": 34,
   "id": "30984ac6-e693-474b-bb01-aadaede99149",
   "metadata": {
    "executionInfo": {
     "elapsed": 17,
     "status": "ok",
     "timestamp": 1753958960999,
     "user": {
      "displayName": "현수김",
      "userId": "01750972062590134853"
     },
     "user_tz": -540
    },
    "id": "30984ac6-e693-474b-bb01-aadaede99149"
   },
   "outputs": [],
   "source": [
    "torch.set_default_dtype(torch.float64)\n",
    "class BinaryClassifier(Module):\n",
    "    def __init__(self):\n",
    "        super().__init__()\n",
    "        self.conv1 = Conv2d(1, 32, kernel_size=3, padding=1)\n",
    "        self.bn1 = BatchNorm2d(32)\n",
    "        self.conv2 = Conv2d(32, 64, kernel_size=3, padding=1)\n",
    "        self.bn2 = BatchNorm2d(64)\n",
    "        self.dropout1 = Dropout2d(p=0.2)\n",
    "\n",
    "        self.fc1 = Linear(64*7*7, 8)\n",
    "        self.dropout2 = Dropout(p=0.2)\n",
    "        self.bn4 = BatchNorm1d(8)\n",
    "        self.fc2 = Linear(1, 1)\n",
    "\n",
    "        torch.nn.init.kaiming_normal_(self.conv1.weight, mode='fan_in', nonlinearity='relu')\n",
    "        torch.nn.init.kaiming_normal_(self.conv2.weight, mode='fan_in', nonlinearity='relu')\n",
    "        torch.nn.init.kaiming_normal_(self.fc1.weight, mode='fan_in', nonlinearity='relu')\n",
    "        torch.nn.init.xavier_normal_(self.fc2.weight)\n",
    "        \n",
    "        # Quantum layer\n",
    "        self.q_device = qml.device(\"default.qubit\", wires=8)\n",
    "        self.qnn_params = Parameter(0.5*torch.randn(42), requires_grad= True)\n",
    "        self.obs = qml.PauliZ(7)\n",
    "\n",
    "        @qml.qnode(self.q_device)\n",
    "        def circuit(x):\n",
    "            #Feature Encoding\n",
    "            qml.AngleEmbedding(x, range(8), rotation=\"Y\")\n",
    "            #---------------\n",
    "            #Convolution1\n",
    "            for i in range(4):\n",
    "              qml.CNOT(wires=[i*2, i*2+1])\n",
    "            for i in range(8):\n",
    "              qml.RY(self.qnn_params[i], wires=i)\n",
    "            for i in range(4):\n",
    "              qml.CNOT(wires=[i*2+1, (i*2+2)%8])\n",
    "\n",
    "            for i in range(4):\n",
    "              qml.CNOT(wires=[i*2, i*2+1])\n",
    "            for i in range(8):\n",
    "              qml.RX(self.qnn_params[i+8], wires=i)\n",
    "            for i in range(4):\n",
    "              qml.CNOT(wires=[i*2+1, (i*2+2)%8])\n",
    "            #---------------\n",
    "            #Pooling1\n",
    "            for i in range(4):\n",
    "              qml.CNOT(wires=[i*2+1, i*2])\n",
    "            for i in range(8):\n",
    "              qml.RZ(self.qnn_params[i+16], wires=i)\n",
    "            for i in range(4):\n",
    "              qml.CNOT(wires=[i*2, i*2+1])\n",
    "            #----------------\n",
    "            #Convolution2\n",
    "            for i in range(2):\n",
    "              qml.CNOT(wires=[i*4+1, i*4+3])\n",
    "            for i in range(4):\n",
    "              qml.RY(self.qnn_params[i+24], wires=2*i+1)\n",
    "            for i in range(2):\n",
    "              qml.CNOT(wires=[i*4+3, (i*4+5)%8])\n",
    "\n",
    "            for i in range(2):\n",
    "              qml.CNOT(wires=[i*4+1, i*4+3])\n",
    "            for i in range(4):\n",
    "              qml.RX(self.qnn_params[i+28], wires=2*i+1)\n",
    "            for i in range(2):\n",
    "              qml.CNOT(wires=[i*4+3, (i*4+5)%8])\n",
    "            #---------------\n",
    "            #Pooling2\n",
    "            for i in range(2):\n",
    "              qml.CNOT(wires=[i*4+3, i*4+1])\n",
    "            for i in range(4):\n",
    "              qml.RZ(self.qnn_params[i+32], wires=i*2+1)\n",
    "            for i in range(2):\n",
    "              qml.CNOT(wires=[i*4+1, i*4+3])\n",
    "            #---------------\n",
    "            #Convolution3\n",
    "            qml.CNOT(wires=[7, 3])\n",
    "            qml.RY(self.qnn_params[36], wires=3)\n",
    "            qml.RY(self.qnn_params[37], wires=7)\n",
    "            qml.CNOT(wires=[3, 7])\n",
    "\n",
    "            qml.CNOT(wires=[7, 3])\n",
    "            qml.RX(self.qnn_params[38], wires=3)\n",
    "            qml.RX(self.qnn_params[39], wires=7)\n",
    "            qml.CNOT(wires=[3, 7])\n",
    "            #---------------\n",
    "            #Pooling3\n",
    "            qml.CNOT(wires=[7, 3])\n",
    "            qml.RZ(self.qnn_params[40], wires=3)\n",
    "            qml.RZ(self.qnn_params[41], wires=7)\n",
    "            qml.CNOT(wires=[3, 7])\n",
    "\n",
    "            return qml.expval(self.obs)\n",
    "\n",
    "        self.qnn = circuit\n",
    "\n",
    "    def forward(self, x):\n",
    "        x = F.relu(self.bn1(self.conv1(x)))\n",
    "        x = F.max_pool2d(x, 2)\n",
    "        x = F.relu(self.bn2(self.conv2(x)))\n",
    "        x = F.max_pool2d(x, 2)\n",
    "        x = self.dropout1(x)\n",
    "        x = x.view(-1,64*7*7)\n",
    "        x = F.relu(self.fc1(x))\n",
    "        x = self.bn4(x)\n",
    "        x = self.dropout2(x)\n",
    "        x = self.qnn(x).view(-1,1)  # apply QNN\n",
    "        x = self.fc2(x)\n",
    "        return F.log_softmax(cat((x, 1 - x), -1), -1)"
   ]
  },
  {
   "cell_type": "code",
   "execution_count": 35,
   "id": "962f6cdd-2cb5-4ac0-90c3-d346c35dcf54",
   "metadata": {
    "executionInfo": {
     "elapsed": 15,
     "status": "ok",
     "timestamp": 1753958961012,
     "user": {
      "displayName": "현수김",
      "userId": "01750972062590134853"
     },
     "user_tz": -540
    },
    "id": "962f6cdd-2cb5-4ac0-90c3-d346c35dcf54"
   },
   "outputs": [],
   "source": [
    "bc = BinaryClassifier()\n",
    "\n",
    "bc = bc.to(device)"
   ]
  },
  {
   "cell_type": "markdown",
   "id": "CpoxBzqXv5nh",
   "metadata": {
    "id": "CpoxBzqXv5nh"
   },
   "source": [
    "#회로 제약 점검"
   ]
  },
  {
   "cell_type": "code",
   "execution_count": 36,
   "id": "K9GyWVZjyM8c",
   "metadata": {
    "colab": {
     "base_uri": "https://localhost:8080/"
    },
    "executionInfo": {
     "elapsed": 5,
     "status": "ok",
     "timestamp": 1753958961986,
     "user": {
      "displayName": "현수김",
      "userId": "01750972062590134853"
     },
     "user_tz": -540
    },
    "id": "K9GyWVZjyM8c",
    "outputId": "49b814bb-65c5-4586-d922-edc2dc4dd030"
   },
   "outputs": [
    {
     "name": "stderr",
     "output_type": "stream",
     "text": [
      "C:\\Users\\xanle\\AppData\\Local\\Temp\\ipykernel_9112\\3286975387.py:4: UserWarning: To copy construct from a tensor, it is recommended to use sourceTensor.detach().clone() or sourceTensor.detach().clone().requires_grad_(True), rather than torch.tensor(sourceTensor).\n",
      "  dummy_x = torch.tensor(torch.randn(2,8), dtype=torch.float64)\n"
     ]
    },
    {
     "data": {
      "text/plain": [
       "{'resources': Resources(num_wires=8, num_gates=85, gate_types=defaultdict(<class 'int'>, {'AngleEmbedding': 1, 'CNOT': 42, 'RY': 14, 'RX': 14, 'RZ': 14}), gate_sizes=defaultdict(<class 'int'>, {8: 1, 2: 42, 1: 42}), depth=28, shots=Shots(total_shots=None, shot_vector=())),\n",
       " 'errors': {},\n",
       " 'num_observables': 1,\n",
       " 'num_trainable_params': 42,\n",
       " 'num_device_wires': 8,\n",
       " 'num_tape_wires': 8,\n",
       " 'device_name': 'default.qubit',\n",
       " 'level': 'gradient',\n",
       " 'gradient_options': {},\n",
       " 'interface': 'auto',\n",
       " 'diff_method': 'best',\n",
       " 'gradient_fn': 'backprop'}"
      ]
     },
     "execution_count": 36,
     "metadata": {},
     "output_type": "execute_result"
    }
   ],
   "source": [
    "# ───── 학습 전에 회로 제약 먼저 점검 ─────\n",
    "import pennylane as qml, torch\n",
    "\n",
    "dummy_x = torch.tensor(torch.randn(2,8), dtype=torch.float64)\n",
    "specs = qml.specs(bc.qnn)(dummy_x)\n",
    "\n",
    "specs"
   ]
  },
  {
   "cell_type": "code",
   "execution_count": 37,
   "id": "tzTZShsDbU_x",
   "metadata": {
    "colab": {
     "base_uri": "https://localhost:8080/"
    },
    "executionInfo": {
     "elapsed": 8,
     "status": "ok",
     "timestamp": 1753958961995,
     "user": {
      "displayName": "현수김",
      "userId": "01750972062590134853"
     },
     "user_tz": -540
    },
    "id": "tzTZShsDbU_x",
    "outputId": "0a9298d8-8d65-4129-92d1-9ae664446657"
   },
   "outputs": [
    {
     "name": "stdout",
     "output_type": "stream",
     "text": [
      "Total number of trainable parameters: 44164\n",
      "num_tape_wires:8\n",
      "resources:28\n",
      "num_trainable_params:42\n",
      "✅ 회로 제약 통과 — 학습을 계속합니다\n"
     ]
    }
   ],
   "source": [
    "# prompt: bc의 전체 학습 가중치 파라미터 개수를 알라보려면? 영어로 출력\n",
    "\n",
    "total_params = sum(p.numel() for p in bc.parameters() if p.requires_grad)\n",
    "print(f\"Total number of trainable parameters: {total_params}\")\n",
    "\n",
    "\n",
    "print(\"num_tape_wires:\"+str(specs[\"num_tape_wires\"]))\n",
    "print(\"resources:\" + str(specs['resources'].depth))\n",
    "print(\"num_trainable_params:\"+str(specs[\"num_trainable_params\"]))\n",
    "\n",
    "assert specs[\"num_tape_wires\"] <= 8,  \"❌ 큐빗 수 초과\"\n",
    "assert specs['resources'].depth <= 30, \"❌ 회로 깊이 초과\"\n",
    "assert specs[\"num_trainable_params\"]<= 60, \"❌ 학습 파라미터 수 초과\"\n",
    "assert total_params <= 50000, \"❌ 학습 전체 파라미터 수 초과\"\n",
    "\n",
    "print(\"✅ 회로 제약 통과 — 학습을 계속합니다\")"
   ]
  },
  {
   "cell_type": "code",
   "execution_count": 38,
   "id": "63c3b336-ebfa-4db1-8796-0b1fec590b69",
   "metadata": {
    "executionInfo": {
     "elapsed": 40,
     "status": "ok",
     "timestamp": 1753958962036,
     "user": {
      "displayName": "현수김",
      "userId": "01750972062590134853"
     },
     "user_tz": -540
    },
    "id": "63c3b336-ebfa-4db1-8796-0b1fec590b69"
   },
   "outputs": [],
   "source": [
    "data, target = next(iter(train_loader))"
   ]
  },
  {
   "cell_type": "code",
   "execution_count": 39,
   "id": "7bd41aef-c008-424e-a65c-62d7b2042f2d",
   "metadata": {
    "colab": {
     "base_uri": "https://localhost:8080/"
    },
    "executionInfo": {
     "elapsed": 13,
     "status": "ok",
     "timestamp": 1753958962037,
     "user": {
      "displayName": "현수김",
      "userId": "01750972062590134853"
     },
     "user_tz": -540
    },
    "id": "7bd41aef-c008-424e-a65c-62d7b2042f2d",
    "outputId": "4d75135b-586b-4ca5-83b9-cbdcb50b3274"
   },
   "outputs": [
    {
     "data": {
      "text/plain": [
       "BinaryClassifier(\n",
       "  (conv1): Conv2d(1, 32, kernel_size=(3, 3), stride=(1, 1), padding=(1, 1))\n",
       "  (bn1): BatchNorm2d(32, eps=1e-05, momentum=0.1, affine=True, track_running_stats=True)\n",
       "  (conv2): Conv2d(32, 64, kernel_size=(3, 3), stride=(1, 1), padding=(1, 1))\n",
       "  (bn2): BatchNorm2d(64, eps=1e-05, momentum=0.1, affine=True, track_running_stats=True)\n",
       "  (dropout1): Dropout2d(p=0.2, inplace=False)\n",
       "  (fc1): Linear(in_features=3136, out_features=8, bias=True)\n",
       "  (dropout2): Dropout(p=0.2, inplace=False)\n",
       "  (bn4): BatchNorm1d(8, eps=1e-05, momentum=0.1, affine=True, track_running_stats=True)\n",
       "  (fc2): Linear(in_features=1, out_features=1, bias=True)\n",
       ")"
      ]
     },
     "execution_count": 39,
     "metadata": {},
     "output_type": "execute_result"
    }
   ],
   "source": [
    "optimizer = AdamW(bc.parameters(), lr=1e-3)\n",
    "loss_func  = NLLLoss()\n",
    "\n",
    "loss_history = []\n",
    "bc.train()"
   ]
  },
  {
   "cell_type": "markdown",
   "id": "T0GtZULeavQ5",
   "metadata": {
    "id": "T0GtZULeavQ5"
   },
   "source": [
    "# 모델 학습 및 추론"
   ]
  },
  {
   "cell_type": "code",
   "execution_count": 40,
   "id": "YgTOwKQFvJ3a",
   "metadata": {
    "executionInfo": {
     "elapsed": 6,
     "status": "ok",
     "timestamp": 1753958962037,
     "user": {
      "displayName": "현수김",
      "userId": "01750972062590134853"
     },
     "user_tz": -540
    },
    "id": "YgTOwKQFvJ3a"
   },
   "outputs": [],
   "source": [
    "param_file_name= \"my_model1_params\""
   ]
  },
  {
   "cell_type": "code",
   "execution_count": 41,
   "id": "ypbuRF0zCS8U",
   "metadata": {
    "id": "ypbuRF0zCS8U"
   },
   "outputs": [
    {
     "name": "stdout",
     "output_type": "stream",
     "text": [
      "Iteration [1/1000], Loss: 0.3118, Accuracy: 0.8805\n",
      "Iteration [2/1000], Loss: 0.3124, Accuracy: 0.8780\n",
      "Iteration [3/1000], Loss: 0.3032, Accuracy: 0.8820\n",
      "Iteration [4/1000], Loss: 0.3090, Accuracy: 0.8820\n",
      "Iteration [5/1000], Loss: 0.3092, Accuracy: 0.8880\n",
      "Iteration [6/1000], Loss: 0.3053, Accuracy: 0.8800\n",
      "Iteration [7/1000], Loss: 0.3174, Accuracy: 0.8740\n",
      "Iteration [8/1000], Loss: 0.3183, Accuracy: 0.8840\n",
      "Iteration [9/1000], Loss: 0.3185, Accuracy: 0.8845\n",
      "Iteration [10/1000], Loss: 0.3118, Accuracy: 0.8780\n",
      "Iteration [11/1000], Loss: 0.3100, Accuracy: 0.8890\n",
      "Iteration [12/1000], Loss: 0.3036, Accuracy: 0.8780\n",
      "Iteration [13/1000], Loss: 0.3092, Accuracy: 0.8860\n",
      "Iteration [14/1000], Loss: 0.3028, Accuracy: 0.8885\n",
      "Iteration [15/1000], Loss: 0.2967, Accuracy: 0.8835\n",
      "Iteration [16/1000], Loss: 0.3015, Accuracy: 0.8840\n",
      "Iteration [17/1000], Loss: 0.3025, Accuracy: 0.8865\n",
      "Iteration [18/1000], Loss: 0.2968, Accuracy: 0.8805\n",
      "Iteration [19/1000], Loss: 0.2974, Accuracy: 0.8845\n",
      "Iteration [20/1000], Loss: 0.2947, Accuracy: 0.8700\n",
      "Iteration [21/1000], Loss: 0.2899, Accuracy: 0.8815\n",
      "Iteration [22/1000], Loss: 0.2939, Accuracy: 0.8815\n",
      "Iteration [23/1000], Loss: 0.2936, Accuracy: 0.8820\n",
      "Iteration [24/1000], Loss: 0.2876, Accuracy: 0.8815\n",
      "Iteration [25/1000], Loss: 0.2999, Accuracy: 0.8860\n",
      "Iteration [26/1000], Loss: 0.2908, Accuracy: 0.8825\n",
      "Iteration [27/1000], Loss: 0.2869, Accuracy: 0.8900\n",
      "Iteration [28/1000], Loss: 0.2907, Accuracy: 0.8770\n",
      "Iteration [29/1000], Loss: 0.2885, Accuracy: 0.8810\n",
      "Iteration [30/1000], Loss: 0.2845, Accuracy: 0.8880\n",
      "Iteration [31/1000], Loss: 0.2844, Accuracy: 0.8900\n",
      "Iteration [32/1000], Loss: 0.2844, Accuracy: 0.8845\n",
      "Iteration [33/1000], Loss: 0.2838, Accuracy: 0.8835\n",
      "Iteration [34/1000], Loss: 0.2841, Accuracy: 0.8875\n",
      "Iteration [35/1000], Loss: 0.2838, Accuracy: 0.8855\n",
      "Iteration [36/1000], Loss: 0.2879, Accuracy: 0.8900\n",
      "Iteration [37/1000], Loss: 0.2822, Accuracy: 0.8895\n",
      "Iteration [38/1000], Loss: 0.2788, Accuracy: 0.8875\n",
      "Iteration [39/1000], Loss: 0.2773, Accuracy: 0.8880\n",
      "Iteration [40/1000], Loss: 0.2747, Accuracy: 0.8875\n",
      "Iteration [41/1000], Loss: 0.2780, Accuracy: 0.8845\n",
      "Iteration [42/1000], Loss: 0.2795, Accuracy: 0.8880\n",
      "Iteration [43/1000], Loss: 0.2690, Accuracy: 0.8895\n",
      "Iteration [44/1000], Loss: 0.2767, Accuracy: 0.8860\n",
      "Iteration [45/1000], Loss: 0.2778, Accuracy: 0.8885\n",
      "Iteration [46/1000], Loss: 0.2774, Accuracy: 0.8855\n",
      "Iteration [47/1000], Loss: 0.2712, Accuracy: 0.8915\n",
      "Iteration [48/1000], Loss: 0.2725, Accuracy: 0.8910\n",
      "Iteration [49/1000], Loss: 0.2699, Accuracy: 0.8870\n",
      "Iteration [50/1000], Loss: 0.2677, Accuracy: 0.8915\n",
      "Iteration [51/1000], Loss: 0.2702, Accuracy: 0.8895\n",
      "Iteration [52/1000], Loss: 0.2665, Accuracy: 0.8865\n",
      "Iteration [53/1000], Loss: 0.2713, Accuracy: 0.8925\n",
      "Iteration [54/1000], Loss: 0.2661, Accuracy: 0.8875\n",
      "Iteration [55/1000], Loss: 0.2652, Accuracy: 0.8605\n",
      "Iteration [56/1000], Loss: 0.2682, Accuracy: 0.8895\n",
      "Iteration [57/1000], Loss: 0.2638, Accuracy: 0.8905\n",
      "Iteration [58/1000], Loss: 0.2656, Accuracy: 0.8975\n",
      "Iteration [59/1000], Loss: 0.2737, Accuracy: 0.8890\n",
      "Iteration [60/1000], Loss: 0.2629, Accuracy: 0.8955\n",
      "Iteration [61/1000], Loss: 0.2659, Accuracy: 0.8925\n",
      "Iteration [62/1000], Loss: 0.2618, Accuracy: 0.8875\n",
      "Iteration [63/1000], Loss: 0.2588, Accuracy: 0.8880\n",
      "Iteration [64/1000], Loss: 0.2571, Accuracy: 0.8885\n",
      "Iteration [65/1000], Loss: 0.2588, Accuracy: 0.8870\n",
      "Iteration [66/1000], Loss: 0.2533, Accuracy: 0.8930\n",
      "Iteration [67/1000], Loss: 0.2561, Accuracy: 0.8955\n",
      "Iteration [68/1000], Loss: 0.2551, Accuracy: 0.8935\n",
      "Iteration [69/1000], Loss: 0.2524, Accuracy: 0.8900\n",
      "Iteration [70/1000], Loss: 0.2520, Accuracy: 0.8880\n",
      "Iteration [71/1000], Loss: 0.2508, Accuracy: 0.8890\n",
      "Iteration [72/1000], Loss: 0.2535, Accuracy: 0.8930\n",
      "Iteration [73/1000], Loss: 0.2509, Accuracy: 0.8990\n",
      "Iteration [74/1000], Loss: 0.2514, Accuracy: 0.8895\n",
      "Iteration [75/1000], Loss: 0.2466, Accuracy: 0.8885\n",
      "Iteration [76/1000], Loss: 0.2516, Accuracy: 0.8955\n",
      "Iteration [77/1000], Loss: 0.2467, Accuracy: 0.8900\n",
      "Iteration [78/1000], Loss: 0.2436, Accuracy: 0.8900\n",
      "Iteration [79/1000], Loss: 0.2463, Accuracy: 0.8925\n",
      "Iteration [80/1000], Loss: 0.2499, Accuracy: 0.8905\n",
      "Iteration [81/1000], Loss: 0.2532, Accuracy: 0.8915\n",
      "Iteration [82/1000], Loss: 0.2427, Accuracy: 0.8975\n",
      "Iteration [83/1000], Loss: 0.2435, Accuracy: 0.8950\n",
      "Iteration [84/1000], Loss: 0.2427, Accuracy: 0.8945\n",
      "Iteration [85/1000], Loss: 0.2410, Accuracy: 0.8895\n",
      "Iteration [86/1000], Loss: 0.2440, Accuracy: 0.8910\n",
      "Iteration [87/1000], Loss: 0.2415, Accuracy: 0.8940\n",
      "Iteration [88/1000], Loss: 0.2391, Accuracy: 0.8920\n",
      "Iteration [89/1000], Loss: 0.2424, Accuracy: 0.8990\n",
      "Iteration [90/1000], Loss: 0.2365, Accuracy: 0.8955\n",
      "Iteration [91/1000], Loss: 0.2429, Accuracy: 0.8980\n",
      "Iteration [92/1000], Loss: 0.2376, Accuracy: 0.8970\n",
      "Iteration [93/1000], Loss: 0.2347, Accuracy: 0.8930\n",
      "Iteration [94/1000], Loss: 0.2363, Accuracy: 0.8940\n",
      "Iteration [95/1000], Loss: 0.2367, Accuracy: 0.9005\n",
      "Iteration [96/1000], Loss: 0.2305, Accuracy: 0.8950\n",
      "Iteration [97/1000], Loss: 0.2304, Accuracy: 0.9010\n",
      "Iteration [98/1000], Loss: 0.2359, Accuracy: 0.9000\n",
      "Iteration [99/1000], Loss: 0.2384, Accuracy: 0.8955\n",
      "Iteration [100/1000], Loss: 0.2325, Accuracy: 0.8995\n",
      "Iteration [101/1000], Loss: 0.2417, Accuracy: 0.8950\n",
      "Iteration [102/1000], Loss: 0.2362, Accuracy: 0.8905\n",
      "Iteration [103/1000], Loss: 0.2291, Accuracy: 0.8945\n",
      "Iteration [104/1000], Loss: 0.2344, Accuracy: 0.8975\n",
      "Iteration [105/1000], Loss: 0.2341, Accuracy: 0.8950\n",
      "Iteration [106/1000], Loss: 0.2327, Accuracy: 0.8970\n",
      "Iteration [107/1000], Loss: 0.2283, Accuracy: 0.8995\n",
      "Iteration [108/1000], Loss: 0.2336, Accuracy: 0.8990\n",
      "Iteration [109/1000], Loss: 0.2297, Accuracy: 0.8965\n",
      "Iteration [110/1000], Loss: 0.2298, Accuracy: 0.9035\n",
      "Iteration [111/1000], Loss: 0.2313, Accuracy: 0.8960\n",
      "Iteration [112/1000], Loss: 0.2317, Accuracy: 0.9030\n",
      "Iteration [113/1000], Loss: 0.2322, Accuracy: 0.9005\n",
      "Iteration [114/1000], Loss: 0.2238, Accuracy: 0.8985\n",
      "Iteration [115/1000], Loss: 0.2298, Accuracy: 0.8975\n",
      "Iteration [116/1000], Loss: 0.2246, Accuracy: 0.8985\n",
      "Iteration [117/1000], Loss: 0.2272, Accuracy: 0.9005\n",
      "Iteration [118/1000], Loss: 0.2255, Accuracy: 0.9030\n",
      "Iteration [119/1000], Loss: 0.2326, Accuracy: 0.8945\n",
      "Iteration [120/1000], Loss: 0.2293, Accuracy: 0.8960\n",
      "Iteration [121/1000], Loss: 0.2238, Accuracy: 0.9035\n",
      "Iteration [122/1000], Loss: 0.2286, Accuracy: 0.8955\n",
      "Iteration [123/1000], Loss: 0.2288, Accuracy: 0.9025\n",
      "Iteration [124/1000], Loss: 0.2295, Accuracy: 0.8995\n",
      "Iteration [125/1000], Loss: 0.2234, Accuracy: 0.8965\n",
      "Iteration [126/1000], Loss: 0.2252, Accuracy: 0.8985\n",
      "Iteration [127/1000], Loss: 0.2286, Accuracy: 0.8995\n",
      "Iteration [128/1000], Loss: 0.2276, Accuracy: 0.9025\n",
      "Iteration [129/1000], Loss: 0.2261, Accuracy: 0.8985\n",
      "Iteration [130/1000], Loss: 0.2234, Accuracy: 0.8975\n",
      "Iteration [131/1000], Loss: 0.2205, Accuracy: 0.8920\n",
      "Iteration [132/1000], Loss: 0.2229, Accuracy: 0.9045\n",
      "Iteration [133/1000], Loss: 0.2185, Accuracy: 0.8940\n",
      "Iteration [134/1000], Loss: 0.2225, Accuracy: 0.9055\n",
      "Iteration [135/1000], Loss: 0.2213, Accuracy: 0.9035\n",
      "Iteration [136/1000], Loss: 0.2211, Accuracy: 0.9020\n",
      "Iteration [137/1000], Loss: 0.2209, Accuracy: 0.8970\n",
      "Iteration [138/1000], Loss: 0.2250, Accuracy: 0.8950\n",
      "Iteration [139/1000], Loss: 0.2255, Accuracy: 0.8945\n",
      "Iteration [140/1000], Loss: 0.2202, Accuracy: 0.9015\n",
      "Iteration [141/1000], Loss: 0.2234, Accuracy: 0.8990\n",
      "Iteration [142/1000], Loss: 0.2222, Accuracy: 0.8930\n",
      "Iteration [143/1000], Loss: 0.2203, Accuracy: 0.9005\n",
      "Iteration [144/1000], Loss: 0.2171, Accuracy: 0.9005\n",
      "Iteration [145/1000], Loss: 0.2249, Accuracy: 0.8950\n",
      "Iteration [146/1000], Loss: 0.2260, Accuracy: 0.8945\n",
      "Iteration [147/1000], Loss: 0.2186, Accuracy: 0.9000\n",
      "Iteration [148/1000], Loss: 0.2229, Accuracy: 0.8945\n",
      "Iteration [149/1000], Loss: 0.2199, Accuracy: 0.9000\n",
      "Iteration [150/1000], Loss: 0.2251, Accuracy: 0.8995\n",
      "Iteration [151/1000], Loss: 0.2213, Accuracy: 0.9050\n",
      "Iteration [152/1000], Loss: 0.2193, Accuracy: 0.9000\n",
      "Iteration [153/1000], Loss: 0.2185, Accuracy: 0.8985\n",
      "Iteration [154/1000], Loss: 0.2208, Accuracy: 0.9035\n",
      "Iteration [155/1000], Loss: 0.2206, Accuracy: 0.8975\n",
      "Iteration [156/1000], Loss: 0.2193, Accuracy: 0.8985\n",
      "Iteration [157/1000], Loss: 0.2223, Accuracy: 0.8995\n",
      "Iteration [158/1000], Loss: 0.2168, Accuracy: 0.9000\n",
      "Iteration [159/1000], Loss: 0.2170, Accuracy: 0.9060\n",
      "Iteration [160/1000], Loss: 0.2206, Accuracy: 0.9000\n",
      "Iteration [161/1000], Loss: 0.2154, Accuracy: 0.9020\n",
      "Iteration [162/1000], Loss: 0.2202, Accuracy: 0.9040\n",
      "Iteration [163/1000], Loss: 0.2146, Accuracy: 0.8990\n",
      "Iteration [164/1000], Loss: 0.2188, Accuracy: 0.8950\n",
      "Iteration [165/1000], Loss: 0.2162, Accuracy: 0.9035\n",
      "Iteration [166/1000], Loss: 0.2209, Accuracy: 0.9030\n",
      "Iteration [167/1000], Loss: 0.2227, Accuracy: 0.9030\n",
      "Iteration [168/1000], Loss: 0.2185, Accuracy: 0.9055\n",
      "Iteration [169/1000], Loss: 0.2208, Accuracy: 0.8980\n",
      "Iteration [170/1000], Loss: 0.2182, Accuracy: 0.9010\n",
      "Iteration [171/1000], Loss: 0.2162, Accuracy: 0.9015\n",
      "Iteration [172/1000], Loss: 0.2111, Accuracy: 0.8965\n",
      "Iteration [173/1000], Loss: 0.2158, Accuracy: 0.9020\n",
      "Iteration [174/1000], Loss: 0.2172, Accuracy: 0.9050\n",
      "Iteration [175/1000], Loss: 0.2149, Accuracy: 0.9050\n",
      "Iteration [176/1000], Loss: 0.2251, Accuracy: 0.8980\n",
      "Iteration [177/1000], Loss: 0.2212, Accuracy: 0.9020\n",
      "Iteration [178/1000], Loss: 0.2184, Accuracy: 0.9020\n",
      "Iteration [179/1000], Loss: 0.2184, Accuracy: 0.9035\n",
      "Iteration [180/1000], Loss: 0.2128, Accuracy: 0.8990\n",
      "Iteration [181/1000], Loss: 0.2193, Accuracy: 0.8970\n",
      "Iteration [182/1000], Loss: 0.2141, Accuracy: 0.9010\n",
      "Iteration [183/1000], Loss: 0.2202, Accuracy: 0.9000\n",
      "Iteration [184/1000], Loss: 0.2179, Accuracy: 0.8950\n",
      "Iteration [185/1000], Loss: 0.2241, Accuracy: 0.9015\n",
      "Iteration [186/1000], Loss: 0.2211, Accuracy: 0.9035\n",
      "Iteration [187/1000], Loss: 0.2172, Accuracy: 0.9025\n",
      "Iteration [188/1000], Loss: 0.2151, Accuracy: 0.9005\n",
      "Iteration [189/1000], Loss: 0.2196, Accuracy: 0.9050\n",
      "Iteration [190/1000], Loss: 0.2162, Accuracy: 0.9000\n",
      "Iteration [191/1000], Loss: 0.2166, Accuracy: 0.9035\n",
      "Iteration [192/1000], Loss: 0.2121, Accuracy: 0.8980\n",
      "Iteration [193/1000], Loss: 0.2146, Accuracy: 0.9025\n",
      "Iteration [194/1000], Loss: 0.2148, Accuracy: 0.8970\n",
      "Iteration [195/1000], Loss: 0.2151, Accuracy: 0.8925\n",
      "Iteration [196/1000], Loss: 0.2158, Accuracy: 0.9045\n",
      "Iteration [197/1000], Loss: 0.2180, Accuracy: 0.9030\n",
      "Iteration [198/1000], Loss: 0.2159, Accuracy: 0.8990\n",
      "Iteration [199/1000], Loss: 0.2188, Accuracy: 0.8950\n",
      "Iteration [200/1000], Loss: 0.2189, Accuracy: 0.8990\n",
      "Iteration [201/1000], Loss: 0.2137, Accuracy: 0.9025\n",
      "Iteration [202/1000], Loss: 0.2186, Accuracy: 0.8965\n",
      "Iteration [203/1000], Loss: 0.2199, Accuracy: 0.9060\n",
      "Iteration [204/1000], Loss: 0.2126, Accuracy: 0.8935\n",
      "Iteration [205/1000], Loss: 0.2154, Accuracy: 0.8960\n",
      "Iteration [206/1000], Loss: 0.2161, Accuracy: 0.9005\n",
      "Iteration [207/1000], Loss: 0.2135, Accuracy: 0.8985\n",
      "Iteration [208/1000], Loss: 0.2196, Accuracy: 0.9000\n",
      "Iteration [209/1000], Loss: 0.2093, Accuracy: 0.9000\n",
      "Iteration [210/1000], Loss: 0.2181, Accuracy: 0.9040\n",
      "Iteration [211/1000], Loss: 0.2154, Accuracy: 0.8975\n",
      "Iteration [212/1000], Loss: 0.2140, Accuracy: 0.9055\n",
      "Iteration [213/1000], Loss: 0.2136, Accuracy: 0.8990\n",
      "Iteration [214/1000], Loss: 0.2165, Accuracy: 0.9040\n",
      "Iteration [215/1000], Loss: 0.2175, Accuracy: 0.8985\n",
      "Iteration [216/1000], Loss: 0.2134, Accuracy: 0.8960\n",
      "Iteration [217/1000], Loss: 0.2149, Accuracy: 0.8975\n",
      "Iteration [218/1000], Loss: 0.2182, Accuracy: 0.9005\n",
      "Iteration [219/1000], Loss: 0.2202, Accuracy: 0.8995\n",
      "Iteration [220/1000], Loss: 0.2131, Accuracy: 0.9050\n",
      "Iteration [221/1000], Loss: 0.2205, Accuracy: 0.9100\n",
      "Iteration [222/1000], Loss: 0.2116, Accuracy: 0.9065\n",
      "Iteration [223/1000], Loss: 0.2116, Accuracy: 0.9010\n",
      "Iteration [224/1000], Loss: 0.2110, Accuracy: 0.8960\n",
      "Iteration [225/1000], Loss: 0.2115, Accuracy: 0.8965\n",
      "Iteration [226/1000], Loss: 0.2159, Accuracy: 0.8980\n",
      "Iteration [227/1000], Loss: 0.2134, Accuracy: 0.9010\n",
      "Iteration [228/1000], Loss: 0.2124, Accuracy: 0.8950\n",
      "Iteration [229/1000], Loss: 0.2114, Accuracy: 0.8980\n",
      "Iteration [230/1000], Loss: 0.2152, Accuracy: 0.9010\n",
      "Iteration [231/1000], Loss: 0.2163, Accuracy: 0.8935\n",
      "Iteration [232/1000], Loss: 0.2179, Accuracy: 0.8895\n",
      "Iteration [233/1000], Loss: 0.2187, Accuracy: 0.9000\n",
      "Iteration [234/1000], Loss: 0.2133, Accuracy: 0.9080\n",
      "Iteration [235/1000], Loss: 0.2103, Accuracy: 0.9005\n",
      "Iteration [236/1000], Loss: 0.2130, Accuracy: 0.9090\n",
      "Iteration [237/1000], Loss: 0.2132, Accuracy: 0.8955\n",
      "Iteration [238/1000], Loss: 0.2103, Accuracy: 0.8990\n",
      "Iteration [239/1000], Loss: 0.2133, Accuracy: 0.8950\n",
      "Iteration [240/1000], Loss: 0.2151, Accuracy: 0.8950\n",
      "Iteration [241/1000], Loss: 0.2112, Accuracy: 0.8960\n",
      "Iteration [242/1000], Loss: 0.2169, Accuracy: 0.9000\n",
      "Iteration [243/1000], Loss: 0.2085, Accuracy: 0.9015\n",
      "Iteration [244/1000], Loss: 0.2108, Accuracy: 0.8925\n",
      "Iteration [245/1000], Loss: 0.2123, Accuracy: 0.8990\n",
      "Iteration [246/1000], Loss: 0.2137, Accuracy: 0.8975\n",
      "Iteration [247/1000], Loss: 0.2119, Accuracy: 0.9060\n",
      "Iteration [248/1000], Loss: 0.2124, Accuracy: 0.8925\n",
      "Iteration [249/1000], Loss: 0.2129, Accuracy: 0.8990\n",
      "Iteration [250/1000], Loss: 0.2198, Accuracy: 0.9000\n",
      "Iteration [251/1000], Loss: 0.2127, Accuracy: 0.9005\n",
      "Iteration [252/1000], Loss: 0.2106, Accuracy: 0.8950\n",
      "Iteration [253/1000], Loss: 0.2140, Accuracy: 0.8995\n",
      "Iteration [254/1000], Loss: 0.2092, Accuracy: 0.8930\n",
      "Iteration [255/1000], Loss: 0.2114, Accuracy: 0.8920\n",
      "Iteration [256/1000], Loss: 0.2166, Accuracy: 0.9010\n",
      "Iteration [257/1000], Loss: 0.2120, Accuracy: 0.8990\n",
      "Iteration [258/1000], Loss: 0.2125, Accuracy: 0.9040\n",
      "Iteration [259/1000], Loss: 0.2165, Accuracy: 0.8935\n",
      "Iteration [260/1000], Loss: 0.2151, Accuracy: 0.8970\n",
      "Iteration [261/1000], Loss: 0.2095, Accuracy: 0.9005\n",
      "Iteration [262/1000], Loss: 0.2132, Accuracy: 0.8985\n",
      "Iteration [263/1000], Loss: 0.2123, Accuracy: 0.8995\n",
      "Iteration [264/1000], Loss: 0.2097, Accuracy: 0.9035\n",
      "Iteration [265/1000], Loss: 0.2133, Accuracy: 0.8920\n",
      "Iteration [266/1000], Loss: 0.2174, Accuracy: 0.8985\n",
      "Iteration [267/1000], Loss: 0.2138, Accuracy: 0.8980\n"
     ]
    },
    {
     "name": "stderr",
     "output_type": "stream",
     "text": [
      "                                                                                                              \r"
     ]
    },
    {
     "ename": "KeyboardInterrupt",
     "evalue": "",
     "output_type": "error",
     "traceback": [
      "\u001b[31m---------------------------------------------------------------------------\u001b[39m",
      "\u001b[31mKeyboardInterrupt\u001b[39m                         Traceback (most recent call last)",
      "\u001b[36mCell\u001b[39m\u001b[36m \u001b[39m\u001b[32mIn[41]\u001b[39m\u001b[32m, line 99\u001b[39m\n\u001b[32m     97\u001b[39m optimizer.zero_grad(set_to_none=\u001b[38;5;28;01mTrue\u001b[39;00m)\n\u001b[32m     98\u001b[39m data, target = data.to(device), target.to(device)\n\u001b[32m---> \u001b[39m\u001b[32m99\u001b[39m output = \u001b[43mbc\u001b[49m\u001b[43m(\u001b[49m\u001b[43mdata\u001b[49m\u001b[43m)\u001b[49m\n\u001b[32m    100\u001b[39m loss   = loss_func(output, target.squeeze())\n\u001b[32m    102\u001b[39m total_loss.append(loss.item())\n",
      "\u001b[36mFile \u001b[39m\u001b[32m~\\AppData\\Local\\Packages\\PythonSoftwareFoundation.Python.3.11_qbz5n2kfra8p0\\LocalCache\\local-packages\\Python311\\site-packages\\torch\\nn\\modules\\module.py:1751\u001b[39m, in \u001b[36mModule._wrapped_call_impl\u001b[39m\u001b[34m(self, *args, **kwargs)\u001b[39m\n\u001b[32m   1749\u001b[39m     \u001b[38;5;28;01mreturn\u001b[39;00m \u001b[38;5;28mself\u001b[39m._compiled_call_impl(*args, **kwargs)  \u001b[38;5;66;03m# type: ignore[misc]\u001b[39;00m\n\u001b[32m   1750\u001b[39m \u001b[38;5;28;01melse\u001b[39;00m:\n\u001b[32m-> \u001b[39m\u001b[32m1751\u001b[39m     \u001b[38;5;28;01mreturn\u001b[39;00m \u001b[38;5;28;43mself\u001b[39;49m\u001b[43m.\u001b[49m\u001b[43m_call_impl\u001b[49m\u001b[43m(\u001b[49m\u001b[43m*\u001b[49m\u001b[43margs\u001b[49m\u001b[43m,\u001b[49m\u001b[43m \u001b[49m\u001b[43m*\u001b[49m\u001b[43m*\u001b[49m\u001b[43mkwargs\u001b[49m\u001b[43m)\u001b[49m\n",
      "\u001b[36mFile \u001b[39m\u001b[32m~\\AppData\\Local\\Packages\\PythonSoftwareFoundation.Python.3.11_qbz5n2kfra8p0\\LocalCache\\local-packages\\Python311\\site-packages\\torch\\nn\\modules\\module.py:1762\u001b[39m, in \u001b[36mModule._call_impl\u001b[39m\u001b[34m(self, *args, **kwargs)\u001b[39m\n\u001b[32m   1757\u001b[39m \u001b[38;5;66;03m# If we don't have any hooks, we want to skip the rest of the logic in\u001b[39;00m\n\u001b[32m   1758\u001b[39m \u001b[38;5;66;03m# this function, and just call forward.\u001b[39;00m\n\u001b[32m   1759\u001b[39m \u001b[38;5;28;01mif\u001b[39;00m \u001b[38;5;129;01mnot\u001b[39;00m (\u001b[38;5;28mself\u001b[39m._backward_hooks \u001b[38;5;129;01mor\u001b[39;00m \u001b[38;5;28mself\u001b[39m._backward_pre_hooks \u001b[38;5;129;01mor\u001b[39;00m \u001b[38;5;28mself\u001b[39m._forward_hooks \u001b[38;5;129;01mor\u001b[39;00m \u001b[38;5;28mself\u001b[39m._forward_pre_hooks\n\u001b[32m   1760\u001b[39m         \u001b[38;5;129;01mor\u001b[39;00m _global_backward_pre_hooks \u001b[38;5;129;01mor\u001b[39;00m _global_backward_hooks\n\u001b[32m   1761\u001b[39m         \u001b[38;5;129;01mor\u001b[39;00m _global_forward_hooks \u001b[38;5;129;01mor\u001b[39;00m _global_forward_pre_hooks):\n\u001b[32m-> \u001b[39m\u001b[32m1762\u001b[39m     \u001b[38;5;28;01mreturn\u001b[39;00m \u001b[43mforward_call\u001b[49m\u001b[43m(\u001b[49m\u001b[43m*\u001b[49m\u001b[43margs\u001b[49m\u001b[43m,\u001b[49m\u001b[43m \u001b[49m\u001b[43m*\u001b[49m\u001b[43m*\u001b[49m\u001b[43mkwargs\u001b[49m\u001b[43m)\u001b[49m\n\u001b[32m   1764\u001b[39m result = \u001b[38;5;28;01mNone\u001b[39;00m\n\u001b[32m   1765\u001b[39m called_always_called_hooks = \u001b[38;5;28mset\u001b[39m()\n",
      "\u001b[36mCell\u001b[39m\u001b[36m \u001b[39m\u001b[32mIn[34]\u001b[39m\u001b[32m, line 108\u001b[39m, in \u001b[36mBinaryClassifier.forward\u001b[39m\u001b[34m(self, x)\u001b[39m\n\u001b[32m    106\u001b[39m x = \u001b[38;5;28mself\u001b[39m.bn4(x)\n\u001b[32m    107\u001b[39m x = \u001b[38;5;28mself\u001b[39m.dropout2(x)\n\u001b[32m--> \u001b[39m\u001b[32m108\u001b[39m x = \u001b[38;5;28;43mself\u001b[39;49m\u001b[43m.\u001b[49m\u001b[43mqnn\u001b[49m\u001b[43m(\u001b[49m\u001b[43mx\u001b[49m\u001b[43m)\u001b[49m.view(-\u001b[32m1\u001b[39m,\u001b[32m1\u001b[39m)  \u001b[38;5;66;03m# apply QNN\u001b[39;00m\n\u001b[32m    109\u001b[39m x = \u001b[38;5;28mself\u001b[39m.fc2(x)\n\u001b[32m    110\u001b[39m \u001b[38;5;28;01mreturn\u001b[39;00m F.log_softmax(cat((x, \u001b[32m1\u001b[39m - x), -\u001b[32m1\u001b[39m), -\u001b[32m1\u001b[39m)\n",
      "\u001b[36mFile \u001b[39m\u001b[32m~\\AppData\\Local\\Packages\\PythonSoftwareFoundation.Python.3.11_qbz5n2kfra8p0\\LocalCache\\local-packages\\Python311\\site-packages\\pennylane\\workflow\\qnode.py:922\u001b[39m, in \u001b[36mQNode.__call__\u001b[39m\u001b[34m(self, *args, **kwargs)\u001b[39m\n\u001b[32m    919\u001b[39m     \u001b[38;5;28;01mfrom\u001b[39;00m\u001b[38;5;250m \u001b[39m\u001b[34;01m.\u001b[39;00m\u001b[34;01m_capture_qnode\u001b[39;00m\u001b[38;5;250m \u001b[39m\u001b[38;5;28;01mimport\u001b[39;00m capture_qnode  \u001b[38;5;66;03m# pylint: disable=import-outside-toplevel\u001b[39;00m\n\u001b[32m    921\u001b[39m     \u001b[38;5;28;01mreturn\u001b[39;00m capture_qnode(\u001b[38;5;28mself\u001b[39m, *args, **kwargs)\n\u001b[32m--> \u001b[39m\u001b[32m922\u001b[39m \u001b[38;5;28;01mreturn\u001b[39;00m \u001b[38;5;28;43mself\u001b[39;49m\u001b[43m.\u001b[49m\u001b[43m_impl_call\u001b[49m\u001b[43m(\u001b[49m\u001b[43m*\u001b[49m\u001b[43margs\u001b[49m\u001b[43m,\u001b[49m\u001b[43m \u001b[49m\u001b[43m*\u001b[49m\u001b[43m*\u001b[49m\u001b[43mkwargs\u001b[49m\u001b[43m)\u001b[49m\n",
      "\u001b[36mFile \u001b[39m\u001b[32m~\\AppData\\Local\\Packages\\PythonSoftwareFoundation.Python.3.11_qbz5n2kfra8p0\\LocalCache\\local-packages\\Python311\\site-packages\\pennylane\\workflow\\qnode.py:895\u001b[39m, in \u001b[36mQNode._impl_call\u001b[39m\u001b[34m(self, *args, **kwargs)\u001b[39m\n\u001b[32m    892\u001b[39m \u001b[38;5;66;03m# Calculate the classical jacobians if necessary\u001b[39;00m\n\u001b[32m    893\u001b[39m \u001b[38;5;28mself\u001b[39m._transform_program.set_classical_component(\u001b[38;5;28mself\u001b[39m, args, kwargs)\n\u001b[32m--> \u001b[39m\u001b[32m895\u001b[39m res = \u001b[43mexecute\u001b[49m\u001b[43m(\u001b[49m\n\u001b[32m    896\u001b[39m \u001b[43m    \u001b[49m\u001b[43m(\u001b[49m\u001b[43mtape\u001b[49m\u001b[43m,\u001b[49m\u001b[43m)\u001b[49m\u001b[43m,\u001b[49m\n\u001b[32m    897\u001b[39m \u001b[43m    \u001b[49m\u001b[43mdevice\u001b[49m\u001b[43m=\u001b[49m\u001b[38;5;28;43mself\u001b[39;49m\u001b[43m.\u001b[49m\u001b[43mdevice\u001b[49m\u001b[43m,\u001b[49m\n\u001b[32m    898\u001b[39m \u001b[43m    \u001b[49m\u001b[43mdiff_method\u001b[49m\u001b[43m=\u001b[49m\u001b[38;5;28;43mself\u001b[39;49m\u001b[43m.\u001b[49m\u001b[43mdiff_method\u001b[49m\u001b[43m,\u001b[49m\n\u001b[32m    899\u001b[39m \u001b[43m    \u001b[49m\u001b[43minterface\u001b[49m\u001b[43m=\u001b[49m\u001b[38;5;28;43mself\u001b[39;49m\u001b[43m.\u001b[49m\u001b[43minterface\u001b[49m\u001b[43m,\u001b[49m\n\u001b[32m    900\u001b[39m \u001b[43m    \u001b[49m\u001b[43mtransform_program\u001b[49m\u001b[43m=\u001b[49m\u001b[38;5;28;43mself\u001b[39;49m\u001b[43m.\u001b[49m\u001b[43m_transform_program\u001b[49m\u001b[43m,\u001b[49m\n\u001b[32m    901\u001b[39m \u001b[43m    \u001b[49m\u001b[43mgradient_kwargs\u001b[49m\u001b[43m=\u001b[49m\u001b[38;5;28;43mself\u001b[39;49m\u001b[43m.\u001b[49m\u001b[43mgradient_kwargs\u001b[49m\u001b[43m,\u001b[49m\n\u001b[32m    902\u001b[39m \u001b[43m    \u001b[49m\u001b[43m*\u001b[49m\u001b[43m*\u001b[49m\u001b[38;5;28;43mself\u001b[39;49m\u001b[43m.\u001b[49m\u001b[43mexecute_kwargs\u001b[49m\u001b[43m,\u001b[49m\n\u001b[32m    903\u001b[39m \u001b[43m\u001b[49m\u001b[43m)\u001b[49m\n\u001b[32m    904\u001b[39m res = res[\u001b[32m0\u001b[39m]\n\u001b[32m    906\u001b[39m \u001b[38;5;66;03m# convert result to the interface in case the qfunc has no parameters\u001b[39;00m\n",
      "\u001b[36mFile \u001b[39m\u001b[32m~\\AppData\\Local\\Packages\\PythonSoftwareFoundation.Python.3.11_qbz5n2kfra8p0\\LocalCache\\local-packages\\Python311\\site-packages\\pennylane\\workflow\\execution.py:233\u001b[39m, in \u001b[36mexecute\u001b[39m\u001b[34m(tapes, device, diff_method, interface, grad_on_execution, cache, cachesize, max_diff, device_vjp, postselect_mode, mcm_method, gradient_kwargs, transform_program, executor_backend)\u001b[39m\n\u001b[32m    229\u001b[39m tapes, outer_post_processing = outer_transform(tapes)\n\u001b[32m    231\u001b[39m \u001b[38;5;28;01massert\u001b[39;00m \u001b[38;5;129;01mnot\u001b[39;00m outer_transform.is_informative, \u001b[33m\"\u001b[39m\u001b[33mshould only contain device preprocessing\u001b[39m\u001b[33m\"\u001b[39m\n\u001b[32m--> \u001b[39m\u001b[32m233\u001b[39m results = \u001b[43mrun\u001b[49m\u001b[43m(\u001b[49m\u001b[43mtapes\u001b[49m\u001b[43m,\u001b[49m\u001b[43m \u001b[49m\u001b[43mdevice\u001b[49m\u001b[43m,\u001b[49m\u001b[43m \u001b[49m\u001b[43mconfig\u001b[49m\u001b[43m,\u001b[49m\u001b[43m \u001b[49m\u001b[43minner_transform\u001b[49m\u001b[43m)\u001b[49m\n\u001b[32m    234\u001b[39m \u001b[38;5;28;01mreturn\u001b[39;00m user_post_processing(outer_post_processing(results))\n",
      "\u001b[36mFile \u001b[39m\u001b[32m~\\AppData\\Local\\Packages\\PythonSoftwareFoundation.Python.3.11_qbz5n2kfra8p0\\LocalCache\\local-packages\\Python311\\site-packages\\pennylane\\workflow\\run.py:291\u001b[39m, in \u001b[36mrun\u001b[39m\u001b[34m(tapes, device, config, inner_transform_program)\u001b[39m\n\u001b[32m    287\u001b[39m no_interface_boundary_required = (\n\u001b[32m    288\u001b[39m     config.interface == Interface.NUMPY \u001b[38;5;129;01mor\u001b[39;00m config.gradient_method == \u001b[33m\"\u001b[39m\u001b[33mbackprop\u001b[39m\u001b[33m\"\u001b[39m\n\u001b[32m    289\u001b[39m )\n\u001b[32m    290\u001b[39m \u001b[38;5;28;01mif\u001b[39;00m no_interface_boundary_required:\n\u001b[32m--> \u001b[39m\u001b[32m291\u001b[39m     results = \u001b[43minner_execute\u001b[49m\u001b[43m(\u001b[49m\u001b[43mtapes\u001b[49m\u001b[43m)\u001b[49m\n\u001b[32m    292\u001b[39m     \u001b[38;5;28;01mreturn\u001b[39;00m results\n\u001b[32m    294\u001b[39m \u001b[38;5;66;03m# TODO: Prune once support for tf-autograph is dropped\u001b[39;00m\n",
      "\u001b[36mFile \u001b[39m\u001b[32m~\\AppData\\Local\\Packages\\PythonSoftwareFoundation.Python.3.11_qbz5n2kfra8p0\\LocalCache\\local-packages\\Python311\\site-packages\\pennylane\\workflow\\run.py:256\u001b[39m, in \u001b[36m_make_inner_execute.<locals>.inner_execute\u001b[39m\u001b[34m(tapes)\u001b[39m\n\u001b[32m    253\u001b[39m transformed_tapes, transform_post_processing = inner_transform(tapes)\n\u001b[32m    255\u001b[39m \u001b[38;5;28;01mif\u001b[39;00m transformed_tapes:\n\u001b[32m--> \u001b[39m\u001b[32m256\u001b[39m     results = \u001b[43mdevice\u001b[49m\u001b[43m.\u001b[49m\u001b[43mexecute\u001b[49m\u001b[43m(\u001b[49m\u001b[43mtransformed_tapes\u001b[49m\u001b[43m,\u001b[49m\u001b[43m \u001b[49m\u001b[43mexecution_config\u001b[49m\u001b[43m=\u001b[49m\u001b[43mexecution_config\u001b[49m\u001b[43m)\u001b[49m\n\u001b[32m    257\u001b[39m \u001b[38;5;28;01melse\u001b[39;00m:\n\u001b[32m    258\u001b[39m     results = ()\n",
      "\u001b[36mFile \u001b[39m\u001b[32m~\\AppData\\Local\\Packages\\PythonSoftwareFoundation.Python.3.11_qbz5n2kfra8p0\\LocalCache\\local-packages\\Python311\\site-packages\\pennylane\\devices\\modifiers\\simulator_tracking.py:28\u001b[39m, in \u001b[36m_track_execute.<locals>.execute\u001b[39m\u001b[34m(self, circuits, execution_config)\u001b[39m\n\u001b[32m     26\u001b[39m \u001b[38;5;129m@wraps\u001b[39m(untracked_execute)\n\u001b[32m     27\u001b[39m \u001b[38;5;28;01mdef\u001b[39;00m\u001b[38;5;250m \u001b[39m\u001b[34mexecute\u001b[39m(\u001b[38;5;28mself\u001b[39m, circuits, execution_config=DefaultExecutionConfig):\n\u001b[32m---> \u001b[39m\u001b[32m28\u001b[39m     results = \u001b[43muntracked_execute\u001b[49m\u001b[43m(\u001b[49m\u001b[38;5;28;43mself\u001b[39;49m\u001b[43m,\u001b[49m\u001b[43m \u001b[49m\u001b[43mcircuits\u001b[49m\u001b[43m,\u001b[49m\u001b[43m \u001b[49m\u001b[43mexecution_config\u001b[49m\u001b[43m)\u001b[49m\n\u001b[32m     29\u001b[39m     \u001b[38;5;28;01mif\u001b[39;00m \u001b[38;5;28misinstance\u001b[39m(circuits, QuantumScript):\n\u001b[32m     30\u001b[39m         batch = (circuits,)\n",
      "\u001b[36mFile \u001b[39m\u001b[32m~\\AppData\\Local\\Packages\\PythonSoftwareFoundation.Python.3.11_qbz5n2kfra8p0\\LocalCache\\local-packages\\Python311\\site-packages\\pennylane\\devices\\modifiers\\single_tape_support.py:30\u001b[39m, in \u001b[36m_make_execute.<locals>.execute\u001b[39m\u001b[34m(self, circuits, execution_config)\u001b[39m\n\u001b[32m     28\u001b[39m     is_single_circuit = \u001b[38;5;28;01mTrue\u001b[39;00m\n\u001b[32m     29\u001b[39m     circuits = (circuits,)\n\u001b[32m---> \u001b[39m\u001b[32m30\u001b[39m results = \u001b[43mbatch_execute\u001b[49m\u001b[43m(\u001b[49m\u001b[38;5;28;43mself\u001b[39;49m\u001b[43m,\u001b[49m\u001b[43m \u001b[49m\u001b[43mcircuits\u001b[49m\u001b[43m,\u001b[49m\u001b[43m \u001b[49m\u001b[43mexecution_config\u001b[49m\u001b[43m)\u001b[49m\n\u001b[32m     31\u001b[39m \u001b[38;5;28;01mreturn\u001b[39;00m results[\u001b[32m0\u001b[39m] \u001b[38;5;28;01mif\u001b[39;00m is_single_circuit \u001b[38;5;28;01melse\u001b[39;00m results\n",
      "\u001b[36mFile \u001b[39m\u001b[32m~\\AppData\\Local\\Packages\\PythonSoftwareFoundation.Python.3.11_qbz5n2kfra8p0\\LocalCache\\local-packages\\Python311\\site-packages\\pennylane\\logging\\decorators.py:61\u001b[39m, in \u001b[36mlog_string_debug_func.<locals>.wrapper_entry\u001b[39m\u001b[34m(*args, **kwargs)\u001b[39m\n\u001b[32m     54\u001b[39m     s_caller = \u001b[33m\"\u001b[39m\u001b[33m::L\u001b[39m\u001b[33m\"\u001b[39m.join(\n\u001b[32m     55\u001b[39m         [\u001b[38;5;28mstr\u001b[39m(i) \u001b[38;5;28;01mfor\u001b[39;00m i \u001b[38;5;129;01min\u001b[39;00m inspect.getouterframes(inspect.currentframe(), \u001b[32m2\u001b[39m)[\u001b[32m1\u001b[39m][\u001b[32m1\u001b[39m:\u001b[32m3\u001b[39m]]\n\u001b[32m     56\u001b[39m     )\n\u001b[32m     57\u001b[39m     lgr.debug(\n\u001b[32m     58\u001b[39m         \u001b[33mf\u001b[39m\u001b[33m\"\u001b[39m\u001b[33mCalling \u001b[39m\u001b[38;5;132;01m{\u001b[39;00mf_string\u001b[38;5;132;01m}\u001b[39;00m\u001b[33m from \u001b[39m\u001b[38;5;132;01m{\u001b[39;00ms_caller\u001b[38;5;132;01m}\u001b[39;00m\u001b[33m\"\u001b[39m,\n\u001b[32m     59\u001b[39m         **_debug_log_kwargs,\n\u001b[32m     60\u001b[39m     )\n\u001b[32m---> \u001b[39m\u001b[32m61\u001b[39m \u001b[38;5;28;01mreturn\u001b[39;00m \u001b[43mfunc\u001b[49m\u001b[43m(\u001b[49m\u001b[43m*\u001b[49m\u001b[43margs\u001b[49m\u001b[43m,\u001b[49m\u001b[43m \u001b[49m\u001b[43m*\u001b[49m\u001b[43m*\u001b[49m\u001b[43mkwargs\u001b[49m\u001b[43m)\u001b[49m\n",
      "\u001b[36mFile \u001b[39m\u001b[32m~\\AppData\\Local\\Packages\\PythonSoftwareFoundation.Python.3.11_qbz5n2kfra8p0\\LocalCache\\local-packages\\Python311\\site-packages\\pennylane\\devices\\default_qubit.py:707\u001b[39m, in \u001b[36mDefaultQubit.execute\u001b[39m\u001b[34m(self, circuits, execution_config)\u001b[39m\n\u001b[32m    697\u001b[39m     warnings.warn(\n\u001b[32m    698\u001b[39m         (\n\u001b[32m    699\u001b[39m             \u001b[33m\"\u001b[39m\u001b[33mJitting executions with many circuits may have substantial classical overhead.\u001b[39m\u001b[33m\"\u001b[39m\n\u001b[32m   (...)\u001b[39m\u001b[32m    702\u001b[39m         \u001b[38;5;167;01mUserWarning\u001b[39;00m,\n\u001b[32m    703\u001b[39m     )\n\u001b[32m    705\u001b[39m \u001b[38;5;28;01mif\u001b[39;00m max_workers \u001b[38;5;129;01mis\u001b[39;00m \u001b[38;5;28;01mNone\u001b[39;00m:\n\u001b[32m--> \u001b[39m\u001b[32m707\u001b[39m     \u001b[38;5;28;01mreturn\u001b[39;00m \u001b[38;5;28mtuple\u001b[39m(\n\u001b[32m    708\u001b[39m         _simulate_wrapper(\n\u001b[32m    709\u001b[39m             c,\n\u001b[32m    710\u001b[39m             {\n\u001b[32m    711\u001b[39m                 \u001b[33m\"\u001b[39m\u001b[33mrng\u001b[39m\u001b[33m\"\u001b[39m: \u001b[38;5;28mself\u001b[39m._rng,\n\u001b[32m    712\u001b[39m                 \u001b[33m\"\u001b[39m\u001b[33mdebugger\u001b[39m\u001b[33m\"\u001b[39m: \u001b[38;5;28mself\u001b[39m._debugger,\n\u001b[32m    713\u001b[39m                 \u001b[33m\"\u001b[39m\u001b[33minterface\u001b[39m\u001b[33m\"\u001b[39m: interface,\n\u001b[32m    714\u001b[39m                 \u001b[33m\"\u001b[39m\u001b[33mstate_cache\u001b[39m\u001b[33m\"\u001b[39m: \u001b[38;5;28mself\u001b[39m._state_cache,\n\u001b[32m    715\u001b[39m                 \u001b[33m\"\u001b[39m\u001b[33mprng_key\u001b[39m\u001b[33m\"\u001b[39m: _key,\n\u001b[32m    716\u001b[39m                 \u001b[33m\"\u001b[39m\u001b[33mmcm_method\u001b[39m\u001b[33m\"\u001b[39m: execution_config.mcm_config.mcm_method,\n\u001b[32m    717\u001b[39m                 \u001b[33m\"\u001b[39m\u001b[33mpostselect_mode\u001b[39m\u001b[33m\"\u001b[39m: execution_config.mcm_config.postselect_mode,\n\u001b[32m    718\u001b[39m             },\n\u001b[32m    719\u001b[39m         )\n\u001b[32m    720\u001b[39m         \u001b[38;5;28;01mfor\u001b[39;00m c, _key \u001b[38;5;129;01min\u001b[39;00m \u001b[38;5;28mzip\u001b[39m(circuits, prng_keys)\n\u001b[32m    721\u001b[39m     )\n\u001b[32m    723\u001b[39m vanilla_circuits = convert_to_numpy_parameters(circuits)[\u001b[32m0\u001b[39m]\n\u001b[32m    724\u001b[39m seeds = \u001b[38;5;28mself\u001b[39m._rng.integers(\u001b[32m2\u001b[39m**\u001b[32m31\u001b[39m - \u001b[32m1\u001b[39m, size=\u001b[38;5;28mlen\u001b[39m(vanilla_circuits))\n",
      "\u001b[36mFile \u001b[39m\u001b[32m~\\AppData\\Local\\Packages\\PythonSoftwareFoundation.Python.3.11_qbz5n2kfra8p0\\LocalCache\\local-packages\\Python311\\site-packages\\pennylane\\devices\\default_qubit.py:708\u001b[39m, in \u001b[36m<genexpr>\u001b[39m\u001b[34m(.0)\u001b[39m\n\u001b[32m    697\u001b[39m     warnings.warn(\n\u001b[32m    698\u001b[39m         (\n\u001b[32m    699\u001b[39m             \u001b[33m\"\u001b[39m\u001b[33mJitting executions with many circuits may have substantial classical overhead.\u001b[39m\u001b[33m\"\u001b[39m\n\u001b[32m   (...)\u001b[39m\u001b[32m    702\u001b[39m         \u001b[38;5;167;01mUserWarning\u001b[39;00m,\n\u001b[32m    703\u001b[39m     )\n\u001b[32m    705\u001b[39m \u001b[38;5;28;01mif\u001b[39;00m max_workers \u001b[38;5;129;01mis\u001b[39;00m \u001b[38;5;28;01mNone\u001b[39;00m:\n\u001b[32m    707\u001b[39m     \u001b[38;5;28;01mreturn\u001b[39;00m \u001b[38;5;28mtuple\u001b[39m(\n\u001b[32m--> \u001b[39m\u001b[32m708\u001b[39m         \u001b[43m_simulate_wrapper\u001b[49m\u001b[43m(\u001b[49m\n\u001b[32m    709\u001b[39m \u001b[43m            \u001b[49m\u001b[43mc\u001b[49m\u001b[43m,\u001b[49m\n\u001b[32m    710\u001b[39m \u001b[43m            \u001b[49m\u001b[43m{\u001b[49m\n\u001b[32m    711\u001b[39m \u001b[43m                \u001b[49m\u001b[33;43m\"\u001b[39;49m\u001b[33;43mrng\u001b[39;49m\u001b[33;43m\"\u001b[39;49m\u001b[43m:\u001b[49m\u001b[43m \u001b[49m\u001b[38;5;28;43mself\u001b[39;49m\u001b[43m.\u001b[49m\u001b[43m_rng\u001b[49m\u001b[43m,\u001b[49m\n\u001b[32m    712\u001b[39m \u001b[43m                \u001b[49m\u001b[33;43m\"\u001b[39;49m\u001b[33;43mdebugger\u001b[39;49m\u001b[33;43m\"\u001b[39;49m\u001b[43m:\u001b[49m\u001b[43m \u001b[49m\u001b[38;5;28;43mself\u001b[39;49m\u001b[43m.\u001b[49m\u001b[43m_debugger\u001b[49m\u001b[43m,\u001b[49m\n\u001b[32m    713\u001b[39m \u001b[43m                \u001b[49m\u001b[33;43m\"\u001b[39;49m\u001b[33;43minterface\u001b[39;49m\u001b[33;43m\"\u001b[39;49m\u001b[43m:\u001b[49m\u001b[43m \u001b[49m\u001b[43minterface\u001b[49m\u001b[43m,\u001b[49m\n\u001b[32m    714\u001b[39m \u001b[43m                \u001b[49m\u001b[33;43m\"\u001b[39;49m\u001b[33;43mstate_cache\u001b[39;49m\u001b[33;43m\"\u001b[39;49m\u001b[43m:\u001b[49m\u001b[43m \u001b[49m\u001b[38;5;28;43mself\u001b[39;49m\u001b[43m.\u001b[49m\u001b[43m_state_cache\u001b[49m\u001b[43m,\u001b[49m\n\u001b[32m    715\u001b[39m \u001b[43m                \u001b[49m\u001b[33;43m\"\u001b[39;49m\u001b[33;43mprng_key\u001b[39;49m\u001b[33;43m\"\u001b[39;49m\u001b[43m:\u001b[49m\u001b[43m \u001b[49m\u001b[43m_key\u001b[49m\u001b[43m,\u001b[49m\n\u001b[32m    716\u001b[39m \u001b[43m                \u001b[49m\u001b[33;43m\"\u001b[39;49m\u001b[33;43mmcm_method\u001b[39;49m\u001b[33;43m\"\u001b[39;49m\u001b[43m:\u001b[49m\u001b[43m \u001b[49m\u001b[43mexecution_config\u001b[49m\u001b[43m.\u001b[49m\u001b[43mmcm_config\u001b[49m\u001b[43m.\u001b[49m\u001b[43mmcm_method\u001b[49m\u001b[43m,\u001b[49m\n\u001b[32m    717\u001b[39m \u001b[43m                \u001b[49m\u001b[33;43m\"\u001b[39;49m\u001b[33;43mpostselect_mode\u001b[39;49m\u001b[33;43m\"\u001b[39;49m\u001b[43m:\u001b[49m\u001b[43m \u001b[49m\u001b[43mexecution_config\u001b[49m\u001b[43m.\u001b[49m\u001b[43mmcm_config\u001b[49m\u001b[43m.\u001b[49m\u001b[43mpostselect_mode\u001b[49m\u001b[43m,\u001b[49m\n\u001b[32m    718\u001b[39m \u001b[43m            \u001b[49m\u001b[43m}\u001b[49m\u001b[43m,\u001b[49m\n\u001b[32m    719\u001b[39m \u001b[43m        \u001b[49m\u001b[43m)\u001b[49m\n\u001b[32m    720\u001b[39m         \u001b[38;5;28;01mfor\u001b[39;00m c, _key \u001b[38;5;129;01min\u001b[39;00m \u001b[38;5;28mzip\u001b[39m(circuits, prng_keys)\n\u001b[32m    721\u001b[39m     )\n\u001b[32m    723\u001b[39m vanilla_circuits = convert_to_numpy_parameters(circuits)[\u001b[32m0\u001b[39m]\n\u001b[32m    724\u001b[39m seeds = \u001b[38;5;28mself\u001b[39m._rng.integers(\u001b[32m2\u001b[39m**\u001b[32m31\u001b[39m - \u001b[32m1\u001b[39m, size=\u001b[38;5;28mlen\u001b[39m(vanilla_circuits))\n",
      "\u001b[36mFile \u001b[39m\u001b[32m~\\AppData\\Local\\Packages\\PythonSoftwareFoundation.Python.3.11_qbz5n2kfra8p0\\LocalCache\\local-packages\\Python311\\site-packages\\pennylane\\devices\\default_qubit.py:1055\u001b[39m, in \u001b[36m_simulate_wrapper\u001b[39m\u001b[34m(circuit, kwargs)\u001b[39m\n\u001b[32m   1054\u001b[39m \u001b[38;5;28;01mdef\u001b[39;00m\u001b[38;5;250m \u001b[39m\u001b[34m_simulate_wrapper\u001b[39m(circuit, kwargs):\n\u001b[32m-> \u001b[39m\u001b[32m1055\u001b[39m     \u001b[38;5;28;01mreturn\u001b[39;00m \u001b[43msimulate\u001b[49m\u001b[43m(\u001b[49m\u001b[43mcircuit\u001b[49m\u001b[43m,\u001b[49m\u001b[43m \u001b[49m\u001b[43m*\u001b[49m\u001b[43m*\u001b[49m\u001b[43mkwargs\u001b[49m\u001b[43m)\u001b[49m\n",
      "\u001b[36mFile \u001b[39m\u001b[32m~\\AppData\\Local\\Packages\\PythonSoftwareFoundation.Python.3.11_qbz5n2kfra8p0\\LocalCache\\local-packages\\Python311\\site-packages\\pennylane\\logging\\decorators.py:61\u001b[39m, in \u001b[36mlog_string_debug_func.<locals>.wrapper_entry\u001b[39m\u001b[34m(*args, **kwargs)\u001b[39m\n\u001b[32m     54\u001b[39m     s_caller = \u001b[33m\"\u001b[39m\u001b[33m::L\u001b[39m\u001b[33m\"\u001b[39m.join(\n\u001b[32m     55\u001b[39m         [\u001b[38;5;28mstr\u001b[39m(i) \u001b[38;5;28;01mfor\u001b[39;00m i \u001b[38;5;129;01min\u001b[39;00m inspect.getouterframes(inspect.currentframe(), \u001b[32m2\u001b[39m)[\u001b[32m1\u001b[39m][\u001b[32m1\u001b[39m:\u001b[32m3\u001b[39m]]\n\u001b[32m     56\u001b[39m     )\n\u001b[32m     57\u001b[39m     lgr.debug(\n\u001b[32m     58\u001b[39m         \u001b[33mf\u001b[39m\u001b[33m\"\u001b[39m\u001b[33mCalling \u001b[39m\u001b[38;5;132;01m{\u001b[39;00mf_string\u001b[38;5;132;01m}\u001b[39;00m\u001b[33m from \u001b[39m\u001b[38;5;132;01m{\u001b[39;00ms_caller\u001b[38;5;132;01m}\u001b[39;00m\u001b[33m\"\u001b[39m,\n\u001b[32m     59\u001b[39m         **_debug_log_kwargs,\n\u001b[32m     60\u001b[39m     )\n\u001b[32m---> \u001b[39m\u001b[32m61\u001b[39m \u001b[38;5;28;01mreturn\u001b[39;00m \u001b[43mfunc\u001b[49m\u001b[43m(\u001b[49m\u001b[43m*\u001b[49m\u001b[43margs\u001b[49m\u001b[43m,\u001b[49m\u001b[43m \u001b[49m\u001b[43m*\u001b[49m\u001b[43m*\u001b[49m\u001b[43mkwargs\u001b[49m\u001b[43m)\u001b[49m\n",
      "\u001b[36mFile \u001b[39m\u001b[32m~\\AppData\\Local\\Packages\\PythonSoftwareFoundation.Python.3.11_qbz5n2kfra8p0\\LocalCache\\local-packages\\Python311\\site-packages\\pennylane\\devices\\qubit\\simulate.py:359\u001b[39m, in \u001b[36msimulate\u001b[39m\u001b[34m(circuit, debugger, state_cache, **execution_kwargs)\u001b[39m\n\u001b[32m    356\u001b[39m     \u001b[38;5;28;01mreturn\u001b[39;00m \u001b[38;5;28mtuple\u001b[39m(results)\n\u001b[32m    358\u001b[39m ops_key, meas_key = jax_random_split(prng_key)\n\u001b[32m--> \u001b[39m\u001b[32m359\u001b[39m state, is_state_batched = \u001b[43mget_final_state\u001b[49m\u001b[43m(\u001b[49m\n\u001b[32m    360\u001b[39m \u001b[43m    \u001b[49m\u001b[43mcircuit\u001b[49m\u001b[43m,\u001b[49m\u001b[43m \u001b[49m\u001b[43mdebugger\u001b[49m\u001b[43m=\u001b[49m\u001b[43mdebugger\u001b[49m\u001b[43m,\u001b[49m\u001b[43m \u001b[49m\u001b[43mprng_key\u001b[49m\u001b[43m=\u001b[49m\u001b[43mops_key\u001b[49m\u001b[43m,\u001b[49m\u001b[43m \u001b[49m\u001b[43m*\u001b[49m\u001b[43m*\u001b[49m\u001b[43mexecution_kwargs\u001b[49m\n\u001b[32m    361\u001b[39m \u001b[43m\u001b[49m\u001b[43m)\u001b[49m\n\u001b[32m    362\u001b[39m \u001b[38;5;28;01mif\u001b[39;00m state_cache \u001b[38;5;129;01mis\u001b[39;00m \u001b[38;5;129;01mnot\u001b[39;00m \u001b[38;5;28;01mNone\u001b[39;00m:\n\u001b[32m    363\u001b[39m     state_cache[circuit.hash] = state\n",
      "\u001b[36mFile \u001b[39m\u001b[32m~\\AppData\\Local\\Packages\\PythonSoftwareFoundation.Python.3.11_qbz5n2kfra8p0\\LocalCache\\local-packages\\Python311\\site-packages\\pennylane\\logging\\decorators.py:61\u001b[39m, in \u001b[36mlog_string_debug_func.<locals>.wrapper_entry\u001b[39m\u001b[34m(*args, **kwargs)\u001b[39m\n\u001b[32m     54\u001b[39m     s_caller = \u001b[33m\"\u001b[39m\u001b[33m::L\u001b[39m\u001b[33m\"\u001b[39m.join(\n\u001b[32m     55\u001b[39m         [\u001b[38;5;28mstr\u001b[39m(i) \u001b[38;5;28;01mfor\u001b[39;00m i \u001b[38;5;129;01min\u001b[39;00m inspect.getouterframes(inspect.currentframe(), \u001b[32m2\u001b[39m)[\u001b[32m1\u001b[39m][\u001b[32m1\u001b[39m:\u001b[32m3\u001b[39m]]\n\u001b[32m     56\u001b[39m     )\n\u001b[32m     57\u001b[39m     lgr.debug(\n\u001b[32m     58\u001b[39m         \u001b[33mf\u001b[39m\u001b[33m\"\u001b[39m\u001b[33mCalling \u001b[39m\u001b[38;5;132;01m{\u001b[39;00mf_string\u001b[38;5;132;01m}\u001b[39;00m\u001b[33m from \u001b[39m\u001b[38;5;132;01m{\u001b[39;00ms_caller\u001b[38;5;132;01m}\u001b[39;00m\u001b[33m\"\u001b[39m,\n\u001b[32m     59\u001b[39m         **_debug_log_kwargs,\n\u001b[32m     60\u001b[39m     )\n\u001b[32m---> \u001b[39m\u001b[32m61\u001b[39m \u001b[38;5;28;01mreturn\u001b[39;00m \u001b[43mfunc\u001b[49m\u001b[43m(\u001b[49m\u001b[43m*\u001b[49m\u001b[43margs\u001b[49m\u001b[43m,\u001b[49m\u001b[43m \u001b[49m\u001b[43m*\u001b[49m\u001b[43m*\u001b[49m\u001b[43mkwargs\u001b[49m\u001b[43m)\u001b[49m\n",
      "\u001b[36mFile \u001b[39m\u001b[32m~\\AppData\\Local\\Packages\\PythonSoftwareFoundation.Python.3.11_qbz5n2kfra8p0\\LocalCache\\local-packages\\Python311\\site-packages\\pennylane\\devices\\qubit\\simulate.py:192\u001b[39m, in \u001b[36mget_final_state\u001b[39m\u001b[34m(circuit, debugger, **execution_kwargs)\u001b[39m\n\u001b[32m    190\u001b[39m \u001b[38;5;28;01mif\u001b[39;00m \u001b[38;5;28misinstance\u001b[39m(op, MidMeasureMP):\n\u001b[32m    191\u001b[39m     prng_key, key = jax_random_split(prng_key)\n\u001b[32m--> \u001b[39m\u001b[32m192\u001b[39m state = \u001b[43mapply_operation\u001b[49m\u001b[43m(\u001b[49m\n\u001b[32m    193\u001b[39m \u001b[43m    \u001b[49m\u001b[43mop\u001b[49m\u001b[43m,\u001b[49m\n\u001b[32m    194\u001b[39m \u001b[43m    \u001b[49m\u001b[43mstate\u001b[49m\u001b[43m,\u001b[49m\n\u001b[32m    195\u001b[39m \u001b[43m    \u001b[49m\u001b[43mis_state_batched\u001b[49m\u001b[43m=\u001b[49m\u001b[43mis_state_batched\u001b[49m\u001b[43m,\u001b[49m\n\u001b[32m    196\u001b[39m \u001b[43m    \u001b[49m\u001b[43mdebugger\u001b[49m\u001b[43m=\u001b[49m\u001b[43mdebugger\u001b[49m\u001b[43m,\u001b[49m\n\u001b[32m    197\u001b[39m \u001b[43m    \u001b[49m\u001b[43mprng_key\u001b[49m\u001b[43m=\u001b[49m\u001b[43mkey\u001b[49m\u001b[43m,\u001b[49m\n\u001b[32m    198\u001b[39m \u001b[43m    \u001b[49m\u001b[43mtape_shots\u001b[49m\u001b[43m=\u001b[49m\u001b[43mcircuit\u001b[49m\u001b[43m.\u001b[49m\u001b[43mshots\u001b[49m\u001b[43m,\u001b[49m\n\u001b[32m    199\u001b[39m \u001b[43m    \u001b[49m\u001b[43m*\u001b[49m\u001b[43m*\u001b[49m\u001b[43mexecution_kwargs\u001b[49m\u001b[43m,\u001b[49m\n\u001b[32m    200\u001b[39m \u001b[43m\u001b[49m\u001b[43m)\u001b[49m\n\u001b[32m    201\u001b[39m \u001b[38;5;66;03m# Handle postselection on mid-circuit measurements\u001b[39;00m\n\u001b[32m    202\u001b[39m \u001b[38;5;28;01mif\u001b[39;00m \u001b[38;5;28misinstance\u001b[39m(op, qml.Projector):\n",
      "\u001b[36mFile \u001b[39m\u001b[32mC:\\Program Files\\WindowsApps\\PythonSoftwareFoundation.Python.3.11_3.11.2544.0_x64__qbz5n2kfra8p0\\Lib\\functools.py:909\u001b[39m, in \u001b[36msingledispatch.<locals>.wrapper\u001b[39m\u001b[34m(*args, **kw)\u001b[39m\n\u001b[32m    905\u001b[39m \u001b[38;5;28;01mif\u001b[39;00m \u001b[38;5;129;01mnot\u001b[39;00m args:\n\u001b[32m    906\u001b[39m     \u001b[38;5;28;01mraise\u001b[39;00m \u001b[38;5;167;01mTypeError\u001b[39;00m(\u001b[33mf\u001b[39m\u001b[33m'\u001b[39m\u001b[38;5;132;01m{\u001b[39;00mfuncname\u001b[38;5;132;01m}\u001b[39;00m\u001b[33m requires at least \u001b[39m\u001b[33m'\u001b[39m\n\u001b[32m    907\u001b[39m                     \u001b[33m'\u001b[39m\u001b[33m1 positional argument\u001b[39m\u001b[33m'\u001b[39m)\n\u001b[32m--> \u001b[39m\u001b[32m909\u001b[39m \u001b[38;5;28;01mreturn\u001b[39;00m \u001b[43mdispatch\u001b[49m\u001b[43m(\u001b[49m\u001b[43margs\u001b[49m\u001b[43m[\u001b[49m\u001b[32;43m0\u001b[39;49m\u001b[43m]\u001b[49m\u001b[43m.\u001b[49m\u001b[34;43m__class__\u001b[39;49m\u001b[43m)\u001b[49m\u001b[43m(\u001b[49m\u001b[43m*\u001b[49m\u001b[43margs\u001b[49m\u001b[43m,\u001b[49m\u001b[43m \u001b[49m\u001b[43m*\u001b[49m\u001b[43m*\u001b[49m\u001b[43mkw\u001b[49m\u001b[43m)\u001b[49m\n",
      "\u001b[36mFile \u001b[39m\u001b[32m~\\AppData\\Local\\Packages\\PythonSoftwareFoundation.Python.3.11_qbz5n2kfra8p0\\LocalCache\\local-packages\\Python311\\site-packages\\pennylane\\devices\\qubit\\apply_operation.py:232\u001b[39m, in \u001b[36mapply_operation\u001b[39m\u001b[34m(op, state, is_state_batched, debugger, **_)\u001b[39m\n\u001b[32m    166\u001b[39m \u001b[38;5;129m@singledispatch\u001b[39m\n\u001b[32m    167\u001b[39m \u001b[38;5;28;01mdef\u001b[39;00m\u001b[38;5;250m \u001b[39m\u001b[34mapply_operation\u001b[39m(\n\u001b[32m    168\u001b[39m     op: qml.operation.Operator,\n\u001b[32m   (...)\u001b[39m\u001b[32m    172\u001b[39m     **_,\n\u001b[32m    173\u001b[39m ):\n\u001b[32m    174\u001b[39m \u001b[38;5;250m    \u001b[39m\u001b[33;03m\"\"\"Apply and operator to a given state.\u001b[39;00m\n\u001b[32m    175\u001b[39m \n\u001b[32m    176\u001b[39m \u001b[33;03m    Args:\u001b[39;00m\n\u001b[32m   (...)\u001b[39m\u001b[32m    230\u001b[39m \n\u001b[32m    231\u001b[39m \u001b[33;03m    \"\"\"\u001b[39;00m\n\u001b[32m--> \u001b[39m\u001b[32m232\u001b[39m     \u001b[38;5;28;01mreturn\u001b[39;00m \u001b[43m_apply_operation_default\u001b[49m\u001b[43m(\u001b[49m\u001b[43mop\u001b[49m\u001b[43m,\u001b[49m\u001b[43m \u001b[49m\u001b[43mstate\u001b[49m\u001b[43m,\u001b[49m\u001b[43m \u001b[49m\u001b[43mis_state_batched\u001b[49m\u001b[43m,\u001b[49m\u001b[43m \u001b[49m\u001b[43mdebugger\u001b[49m\u001b[43m)\u001b[49m\n",
      "\u001b[36mFile \u001b[39m\u001b[32m~\\AppData\\Local\\Packages\\PythonSoftwareFoundation.Python.3.11_qbz5n2kfra8p0\\LocalCache\\local-packages\\Python311\\site-packages\\pennylane\\devices\\qubit\\apply_operation.py:258\u001b[39m, in \u001b[36m_apply_operation_default\u001b[39m\u001b[34m(op, state, is_state_batched, debugger)\u001b[39m\n\u001b[32m    253\u001b[39m     \u001b[38;5;28;01mreturn\u001b[39;00m apply_operation_csr_matrix(op, state, is_state_batched=is_state_batched)\n\u001b[32m    254\u001b[39m \u001b[38;5;28;01mif\u001b[39;00m (\n\u001b[32m    255\u001b[39m     \u001b[38;5;28mlen\u001b[39m(op.wires) < EINSUM_OP_WIRECOUNT_PERF_THRESHOLD\n\u001b[32m    256\u001b[39m     \u001b[38;5;129;01mand\u001b[39;00m math.ndim(state) < EINSUM_STATE_WIRECOUNT_PERF_THRESHOLD\n\u001b[32m    257\u001b[39m ) \u001b[38;5;129;01mor\u001b[39;00m (op.batch_size \u001b[38;5;129;01mand\u001b[39;00m is_state_batched):\n\u001b[32m--> \u001b[39m\u001b[32m258\u001b[39m     \u001b[38;5;28;01mreturn\u001b[39;00m \u001b[43mapply_operation_einsum\u001b[49m\u001b[43m(\u001b[49m\u001b[43mop\u001b[49m\u001b[43m,\u001b[49m\u001b[43m \u001b[49m\u001b[43mstate\u001b[49m\u001b[43m,\u001b[49m\u001b[43m \u001b[49m\u001b[43mis_state_batched\u001b[49m\u001b[43m=\u001b[49m\u001b[43mis_state_batched\u001b[49m\u001b[43m)\u001b[49m\n\u001b[32m    259\u001b[39m \u001b[38;5;28;01mreturn\u001b[39;00m apply_operation_tensordot(op, state, is_state_batched=is_state_batched)\n",
      "\u001b[36mFile \u001b[39m\u001b[32m~\\AppData\\Local\\Packages\\PythonSoftwareFoundation.Python.3.11_qbz5n2kfra8p0\\LocalCache\\local-packages\\Python311\\site-packages\\pennylane\\devices\\qubit\\apply_operation.py:109\u001b[39m, in \u001b[36mapply_operation_einsum\u001b[39m\u001b[34m(op, state, is_state_batched)\u001b[39m\n\u001b[32m    106\u001b[39m         op._batch_size = batch_size  \u001b[38;5;66;03m# pylint:disable=protected-access\u001b[39;00m\n\u001b[32m    107\u001b[39m reshaped_mat = math.reshape(mat, new_mat_shape)\n\u001b[32m--> \u001b[39m\u001b[32m109\u001b[39m \u001b[38;5;28;01mreturn\u001b[39;00m \u001b[43mmath\u001b[49m\u001b[43m.\u001b[49m\u001b[43meinsum\u001b[49m\u001b[43m(\u001b[49m\u001b[43meinsum_indices\u001b[49m\u001b[43m,\u001b[49m\u001b[43m \u001b[49m\u001b[43mreshaped_mat\u001b[49m\u001b[43m,\u001b[49m\u001b[43m \u001b[49m\u001b[43mstate\u001b[49m\u001b[43m)\u001b[49m\n",
      "\u001b[36mFile \u001b[39m\u001b[32m~\\AppData\\Local\\Packages\\PythonSoftwareFoundation.Python.3.11_qbz5n2kfra8p0\\LocalCache\\local-packages\\Python311\\site-packages\\pennylane\\math\\multi_dispatch.py:569\u001b[39m, in \u001b[36meinsum\u001b[39m\u001b[34m(indices, like, optimize, *operands)\u001b[39m\n\u001b[32m    567\u001b[39m \u001b[38;5;28;01mif\u001b[39;00m like \u001b[38;5;129;01mis\u001b[39;00m \u001b[38;5;28;01mNone\u001b[39;00m:\n\u001b[32m    568\u001b[39m     like = get_interface(*operands)\n\u001b[32m--> \u001b[39m\u001b[32m569\u001b[39m operands = \u001b[43mnp\u001b[49m\u001b[43m.\u001b[49m\u001b[43mcoerce\u001b[49m\u001b[43m(\u001b[49m\u001b[43moperands\u001b[49m\u001b[43m,\u001b[49m\u001b[43m \u001b[49m\u001b[43mlike\u001b[49m\u001b[43m=\u001b[49m\u001b[43mlike\u001b[49m\u001b[43m)\u001b[49m\n\u001b[32m    570\u001b[39m \u001b[38;5;28;01mif\u001b[39;00m optimize \u001b[38;5;129;01mis\u001b[39;00m \u001b[38;5;28;01mNone\u001b[39;00m \u001b[38;5;129;01mor\u001b[39;00m like == \u001b[33m\"\u001b[39m\u001b[33mtorch\u001b[39m\u001b[33m\"\u001b[39m:\n\u001b[32m    571\u001b[39m     \u001b[38;5;66;03m# torch einsum doesn't support the optimize keyword argument\u001b[39;00m\n\u001b[32m    572\u001b[39m     \u001b[38;5;28;01mreturn\u001b[39;00m np.einsum(indices, *operands, like=like)\n",
      "\u001b[36mFile \u001b[39m\u001b[32m~\\AppData\\Local\\Packages\\PythonSoftwareFoundation.Python.3.11_qbz5n2kfra8p0\\LocalCache\\local-packages\\Python311\\site-packages\\autoray\\autoray.py:81\u001b[39m, in \u001b[36mdo\u001b[39m\u001b[34m(fn, like, *args, **kwargs)\u001b[39m\n\u001b[32m     79\u001b[39m backend = _choose_backend(fn, args, kwargs, like=like)\n\u001b[32m     80\u001b[39m func = get_lib_fn(backend, fn)\n\u001b[32m---> \u001b[39m\u001b[32m81\u001b[39m \u001b[38;5;28;01mreturn\u001b[39;00m \u001b[43mfunc\u001b[49m\u001b[43m(\u001b[49m\u001b[43m*\u001b[49m\u001b[43margs\u001b[49m\u001b[43m,\u001b[49m\u001b[43m \u001b[49m\u001b[43m*\u001b[49m\u001b[43m*\u001b[49m\u001b[43mkwargs\u001b[49m\u001b[43m)\u001b[49m\n",
      "\u001b[36mFile \u001b[39m\u001b[32m~\\AppData\\Local\\Packages\\PythonSoftwareFoundation.Python.3.11_qbz5n2kfra8p0\\LocalCache\\local-packages\\Python311\\site-packages\\pennylane\\math\\single_dispatch.py:738\u001b[39m, in \u001b[36m_coerce_types_torch\u001b[39m\u001b[34m(tensors)\u001b[39m\n\u001b[32m    736\u001b[39m     dev_indices.remove(\u001b[38;5;28;01mNone\u001b[39;00m)\n\u001b[32m    737\u001b[39m     dev_id = dev_indices.pop()\n\u001b[32m--> \u001b[39m\u001b[32m738\u001b[39m     tensors = \u001b[43m[\u001b[49m\n\u001b[32m    739\u001b[39m \u001b[43m        \u001b[49m\u001b[43mtorch\u001b[49m\u001b[43m.\u001b[49m\u001b[43mas_tensor\u001b[49m\u001b[43m(\u001b[49m\u001b[43mt\u001b[49m\u001b[43m,\u001b[49m\u001b[43m \u001b[49m\u001b[43mdevice\u001b[49m\u001b[43m=\u001b[49m\u001b[43mtorch\u001b[49m\u001b[43m.\u001b[49m\u001b[43mdevice\u001b[49m\u001b[43m(\u001b[49m\u001b[33;43mf\u001b[39;49m\u001b[33;43m\"\u001b[39;49m\u001b[33;43mcuda:\u001b[39;49m\u001b[38;5;132;43;01m{\u001b[39;49;00m\u001b[43mdev_id\u001b[49m\u001b[38;5;132;43;01m}\u001b[39;49;00m\u001b[33;43m\"\u001b[39;49m\u001b[43m)\u001b[49m\u001b[43m)\u001b[49m\n\u001b[32m    740\u001b[39m \u001b[43m        \u001b[49m\u001b[38;5;28;43;01mfor\u001b[39;49;00m\u001b[43m \u001b[49m\u001b[43mt\u001b[49m\u001b[43m \u001b[49m\u001b[38;5;129;43;01min\u001b[39;49;00m\u001b[43m \u001b[49m\u001b[43mtensors\u001b[49m\u001b[43m  \u001b[49m\u001b[38;5;66;43;03m# pragma: no cover\u001b[39;49;00m\n\u001b[32m    741\u001b[39m \u001b[43m    \u001b[49m\u001b[43m]\u001b[49m\n\u001b[32m    742\u001b[39m \u001b[38;5;28;01melse\u001b[39;00m:\n\u001b[32m    743\u001b[39m     device = device_set.pop()\n",
      "\u001b[36mFile \u001b[39m\u001b[32m~\\AppData\\Local\\Packages\\PythonSoftwareFoundation.Python.3.11_qbz5n2kfra8p0\\LocalCache\\local-packages\\Python311\\site-packages\\pennylane\\math\\single_dispatch.py:739\u001b[39m, in \u001b[36m<listcomp>\u001b[39m\u001b[34m(.0)\u001b[39m\n\u001b[32m    736\u001b[39m     dev_indices.remove(\u001b[38;5;28;01mNone\u001b[39;00m)\n\u001b[32m    737\u001b[39m     dev_id = dev_indices.pop()\n\u001b[32m    738\u001b[39m     tensors = [\n\u001b[32m--> \u001b[39m\u001b[32m739\u001b[39m         \u001b[43mtorch\u001b[49m\u001b[43m.\u001b[49m\u001b[43mas_tensor\u001b[49m\u001b[43m(\u001b[49m\u001b[43mt\u001b[49m\u001b[43m,\u001b[49m\u001b[43m \u001b[49m\u001b[43mdevice\u001b[49m\u001b[43m=\u001b[49m\u001b[43mtorch\u001b[49m\u001b[43m.\u001b[49m\u001b[43mdevice\u001b[49m\u001b[43m(\u001b[49m\u001b[33;43mf\u001b[39;49m\u001b[33;43m\"\u001b[39;49m\u001b[33;43mcuda:\u001b[39;49m\u001b[38;5;132;43;01m{\u001b[39;49;00m\u001b[43mdev_id\u001b[49m\u001b[38;5;132;43;01m}\u001b[39;49;00m\u001b[33;43m\"\u001b[39;49m\u001b[43m)\u001b[49m\u001b[43m)\u001b[49m\n\u001b[32m    740\u001b[39m         \u001b[38;5;28;01mfor\u001b[39;00m t \u001b[38;5;129;01min\u001b[39;00m tensors  \u001b[38;5;66;03m# pragma: no cover\u001b[39;00m\n\u001b[32m    741\u001b[39m     ]\n\u001b[32m    742\u001b[39m \u001b[38;5;28;01melse\u001b[39;00m:\n\u001b[32m    743\u001b[39m     device = device_set.pop()\n",
      "\u001b[31mKeyboardInterrupt\u001b[39m: "
     ]
    }
   ],
   "source": [
    "from datetime import datetime\n",
    "import os\n",
    "\n",
    "device = torch.device(\"cuda\" if torch.cuda.is_available() else \"cpu\")\n",
    "bc.to(device)\n",
    "iteration_history = []\n",
    "optimizer_type = \"\"\n",
    "\n",
    "epochs = 1\n",
    "max_iterations = 1000\n",
    "stop_acc_threshold = 0.1\n",
    "\n",
    "theta = 0.3\n",
    "RAdam_iter = 5\n",
    "RAdam_counter = 0\n",
    "RAdam_use = True\n",
    "\n",
    "skip_initial_training = False\n",
    "\n",
    "acc_max = 0\n",
    "\n",
    "bc.train()\n",
    "\n",
    "##########################################################################\n",
    "#초기 학습\n",
    "\n",
    "if(RAdam_use):\n",
    "  optimizer = RAdam(bc.parameters(), lr=3e-4)\n",
    "  optimizer_type = \"RAdam\"\n",
    "  \n",
    "else:\n",
    "  optimizer = AdamW(bc.parameters(), lr=1e-4, weight_decay = 1e-4)\n",
    "  optimizer_type = \"AdamW\"\n",
    "\n",
    "while not skip_initial_training:\n",
    "  if RAdam_use:\n",
    "    RAdam_counter += 1\n",
    "    if RAdam_counter > RAdam_iter:\n",
    "      optimizer = AdamW(bc.parameters(), lr=1e-4)\n",
    "      optimizer_type = \"AdamW\"\n",
    "      RAdam_use = False\n",
    "\n",
    "  clear_output(wait=True)\n",
    "  epoch_bar = tqdm(range(len(train_loader)),\n",
    "                  desc=f\"Epoch (just training, optimizer:{optimizer_type})\",\n",
    "                  leave=False)   # leave=False면 다음 에폭 때 덮어씀\n",
    "\n",
    "  total_loss = []\n",
    "  for bidx, (data, target) in zip(epoch_bar, train_loader):\n",
    "      optimizer.zero_grad(set_to_none=True)\n",
    "      data, target = data.to(device), target.to(device)\n",
    "      output = bc(data)\n",
    "      loss   = loss_func(output, target.squeeze())\n",
    "\n",
    "      total_loss.append(loss.item())\n",
    "      loss.backward()\n",
    "      optimizer.step()\n",
    "\n",
    "      # 20배치마다 postfix로 현재 상태 표시\n",
    "      if bidx % 20 == 0:\n",
    "          epoch_bar.set_postfix(batch=bidx,\n",
    "                                loss=f\"{loss.item():.4f}\")\n",
    "\n",
    "  # 에폭 끝나면 전체 loss 기록\n",
    "  avg_loss = sum(total_loss) / len(total_loss)\n",
    "  loss_history.append(avg_loss)\n",
    "\n",
    "  # 에폭 요약 한 줄 출력 (leave=False였으면 이게 마지막 줄로 남음)\n",
    "  print(f\"Training \"\n",
    "        f\"Loss: {avg_loss:.4f}\")\n",
    "\n",
    "  if avg_loss < theta:\n",
    "    break\n",
    "\n",
    "##########################################################################\n",
    "### 학습 및 평가\n",
    "#if skip_initial_training:\n",
    "optimizer = Lion(bc.parameters(), lr=1e-4, betas=(0.9, 0.99), weight_decay = 1e-2)\n",
    "optimizer_type = \"Lion\"\n",
    "\n",
    "iteration = 0\n",
    "while True:\n",
    "  if iteration >= max_iterations:\n",
    "    break\n",
    "  bc.train()\n",
    "  for epoch in range(epochs):\n",
    "      if iteration == 0 and epoch == 1 and epochs >= 2 or epochs == 1 and iteration == 1:\n",
    "        optimizer = Lookahead(optimizer)\n",
    "        optimizer_type = \"Lookahead Lion\"\n",
    "      # 에폭 진행률 바\n",
    "      epoch_bar = tqdm(range(len(train_loader)),\n",
    "                      desc=f\"Epoch(optimizer:{optimizer_type}) {epoch+1}/{epochs}\",\n",
    "                      leave=False)   # leave=False면 다음 에폭 때 덮어씀\n",
    "\n",
    "      total_loss = []\n",
    "      for bidx, (data, target) in zip(epoch_bar, train_loader):\n",
    "          optimizer.zero_grad(set_to_none=True)\n",
    "          data, target = data.to(device), target.to(device)\n",
    "          output = bc(data)\n",
    "          loss   = loss_func(output, target.squeeze())\n",
    "\n",
    "          total_loss.append(loss.item())\n",
    "          loss.backward()\n",
    "          optimizer.step()\n",
    "\n",
    "          # 20배치마다 postfix로 현재 상태 표시\n",
    "          if bidx % 20 == 0:\n",
    "              epoch_bar.set_postfix(batch=bidx,\n",
    "                                    loss=f\"{loss.item():.4f}\")\n",
    "\n",
    "      # 에폭 끝나면 전체 loss 기록\n",
    "      avg_loss = sum(total_loss) / len(total_loss)\n",
    "      loss_history.append(avg_loss)\n",
    "\n",
    "      # 에폭 요약 한 줄 출력 (leave=False였으면 이게 마지막 줄로 남음)\n",
    "      print(f\"Training [{100.0 * (epoch+1)/epochs:.0f}%] \"\n",
    "            f\"Loss: {avg_loss:.4f}\")\n",
    "\n",
    "\n",
    "  ### 모델 추론\n",
    "  test_loader = DataLoader(\n",
    "      test_ds,\n",
    "      batch_size=64,\n",
    "      shuffle=False\n",
    "  )\n",
    "\n",
    "  bc.eval()\n",
    "\n",
    "  all_preds, all_targets = [], []\n",
    "\n",
    "  with torch.no_grad():\n",
    "      for data, target in tqdm(test_loader,\n",
    "                              desc=\"Inference\",\n",
    "                              total=len(test_loader),\n",
    "                              leave=False):\n",
    "          data, target = data.to(device), target.to(device)\n",
    "\n",
    "          logits = bc(data)\n",
    "\n",
    "          pred = logits.argmax(dim=1)\n",
    "\n",
    "          all_preds.append(pred.cpu())\n",
    "          all_targets.append(target.view(-1).cpu())\n",
    "\n",
    "  y_pred = torch.cat(all_preds).numpy().astype(int)\n",
    "  y_true = torch.cat(all_targets).numpy().astype(int)\n",
    "\n",
    "  ### 평가 및 결과 저장\n",
    "  # 0·6 라벨만 평가\n",
    "  test_mask = (y_true == 0) | (y_true == 6)\n",
    "\n",
    "  # print(\"total samples:\", len(y_true))\n",
    "  # print(\"target samples:\", test_mask.sum())\n",
    "\n",
    "  # 모델 결과가 1인 것을 6으로 변경\n",
    "  y_pred_mapped = np.where(y_pred == 1, 6, y_pred)\n",
    "\n",
    "  acc = (y_pred_mapped[test_mask] == y_true[test_mask]).mean()\n",
    "  iteration_history.append([avg_loss, acc])\n",
    "  clear_output(wait=True)\n",
    "  for i in range(len(iteration_history)):\n",
    "    print(f\"Iteration [{i+1}/{max_iterations}], \"\n",
    "          f\"Loss: {iteration_history[i][0]:.4f}, \"\n",
    "          f\"Accuracy: {iteration_history[i][1]:.4f}\")\n",
    "\n",
    "\n",
    "  # 현재 시각을 \"YYYYMMDD_HHMMSS\" 형식으로 포맷팅\n",
    "  now = datetime.now().strftime(\"%Y%m%d_%H%M%S\")\n",
    "  os.makedirs(\"results\", exist_ok=True)\n",
    "  # 원본 파일명을 기반으로 새 파일명 생성\n",
    "  y_pred_filename = f\"results/y_pred_{now}_acc_{acc:.4f}.csv\"\n",
    "  np.savetxt(y_pred_filename, y_pred_mapped, fmt=\"%d\")\n",
    "\n",
    "  model_filename = f\"results/{param_file_name}_{now}_acc_{acc:.4f}.pth\"\n",
    "  torch.save(bc.state_dict(), model_filename)\n",
    "  if acc_max < acc:\n",
    "    os.makedirs(\"results/best\", exist_ok=True)\n",
    "    model_filename = f\"results/best/{param_file_name}_{now}_acc_{acc:.4f}_loss_{avg_loss:.4f}.pth\"\n",
    "    torch.save(bc.state_dict(), model_filename)\n",
    "    acc_max = acc\n",
    "\n",
    "  if acc <= stop_acc_threshold:\n",
    "    break\n",
    "\n",
    "  iteration = iteration + 1"
   ]
  },
  {
   "cell_type": "markdown",
   "id": "FcfEeBwh5S-l",
   "metadata": {
    "id": "FcfEeBwh5S-l"
   },
   "source": [
    "파라미터 로딩"
   ]
  },
  {
   "cell_type": "code",
   "execution_count": null,
   "id": "bo5l3XaG4-V5",
   "metadata": {
    "id": "bo5l3XaG4-V5"
   },
   "outputs": [
    {
     "name": "stderr",
     "output_type": "stream",
     "text": [
      "                                                            "
     ]
    },
    {
     "name": "stdout",
     "output_type": "stream",
     "text": [
      "acc: 0.8985 loaded\n"
     ]
    },
    {
     "name": "stderr",
     "output_type": "stream",
     "text": [
      "\r"
     ]
    }
   ],
   "source": [
    "import os\n",
    "\n",
    "if False:\n",
    "\n",
    "  fn = \"my_model1_params_20250801_062744_acc_0.8985.pth\"\n",
    "  state_dict = torch.load(f\"results/start_params/{fn}\", map_location=device)\n",
    "  bc.load_state_dict(state_dict)\n",
    "  bc = bc.to(device)\n",
    "\n",
    "  bc.eval()\n",
    "\n",
    "  test_loader = DataLoader(\n",
    "        test_ds,\n",
    "        batch_size=64,\n",
    "        shuffle=False\n",
    "    )\n",
    "\n",
    "  all_preds, all_targets = [], []\n",
    "\n",
    "  with torch.no_grad():\n",
    "      for data, target in tqdm(test_loader,\n",
    "                              desc=\"Inference\",\n",
    "                              total=len(test_loader),\n",
    "                              leave=False):\n",
    "          data, target = data.to(device), target.to(device)\n",
    "\n",
    "          logits = bc(data)\n",
    "\n",
    "          pred = logits.argmax(dim=1)\n",
    "\n",
    "          all_preds.append(pred.cpu())\n",
    "          all_targets.append(target.view(-1).cpu())\n",
    "\n",
    "  y_pred = torch.cat(all_preds).numpy().astype(int)\n",
    "  y_true = torch.cat(all_targets).numpy().astype(int)\n",
    "\n",
    "  ### 평가 및 결과 저장\n",
    "  # 0·6 라벨만 평가\n",
    "  test_mask = (y_true == 0) | (y_true == 6)\n",
    "\n",
    "  # print(\"total samples:\", len(y_true))\n",
    "  # print(\"target samples:\", test_mask.sum())\n",
    "\n",
    "  # 모델 결과가 1인 것을 6으로 변경\n",
    "  y_pred_mapped = np.where(y_pred == 1, 6, y_pred)\n",
    "\n",
    "  acc = (y_pred_mapped[test_mask] == y_true[test_mask]).mean()\n",
    "  print(f\"acc: {acc} loaded\")"
   ]
  },
  {
   "cell_type": "code",
   "execution_count": null,
   "id": "cbf98218",
   "metadata": {},
   "outputs": [],
   "source": []
  }
 ],
 "metadata": {
  "accelerator": "GPU",
  "colab": {
   "gpuType": "T4",
   "provenance": [
    {
     "file_id": "1R4SX5OUo_x2hueBpdSX-WBmWRE-nzG30",
     "timestamp": 1752259944233
    },
    {
     "file_id": "10XuP4x2wWFCvmF_KQlYmIsRjtSNo-EuA",
     "timestamp": 1751954473243
    }
   ]
  },
  "kernelspec": {
   "display_name": "Python 3",
   "name": "python3"
  },
  "language_info": {
   "codemirror_mode": {
    "name": "ipython",
    "version": 3
   },
   "file_extension": ".py",
   "mimetype": "text/x-python",
   "name": "python",
   "nbconvert_exporter": "python",
   "pygments_lexer": "ipython3",
   "version": "3.11.9"
  }
 },
 "nbformat": 4,
 "nbformat_minor": 5
}
